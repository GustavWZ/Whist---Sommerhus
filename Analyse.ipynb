{
 "cells": [
  {
   "cell_type": "markdown",
   "metadata": {},
   "source": [
    "# Package Import"
   ]
  },
  {
   "cell_type": "code",
   "execution_count": 20,
   "metadata": {},
   "outputs": [],
   "source": [
    "import numpy as np\n",
    "import pandas as pd\n",
    "import matplotlib.pyplot as plt"
   ]
  },
  {
   "cell_type": "markdown",
   "metadata": {},
   "source": [
    "# Data Import"
   ]
  },
  {
   "cell_type": "code",
   "execution_count": 21,
   "metadata": {},
   "outputs": [],
   "source": [
    "df = pd.read_csv(\"Sommerhus22/Sommerhus22_data.csv\", sep=\";\")"
   ]
  },
  {
   "cell_type": "markdown",
   "metadata": {},
   "source": [
    "## Datasortering/Forberedelse"
   ]
  },
  {
   "cell_type": "code",
   "execution_count": 22,
   "metadata": {},
   "outputs": [],
   "source": [
    "amo = len(df)\n",
    "\n",
    "\n",
    "def counter(arr,count_check):\n",
    "    \"\"\"\n",
    "    En funktion der tæller hvor mange gange et bestemt element (count_check) \n",
    "    forekommer i et array (arr).\n",
    "    \"\"\"\n",
    "    count_amo = 0\n",
    "    for i in range(len(arr)):\n",
    "        if arr[i] == count_check:\n",
    "            count_amo += 1\n",
    "    \n",
    "    return count_amo"
   ]
  },
  {
   "cell_type": "markdown",
   "metadata": {},
   "source": [
    "Laver en dictionary-template som indeholder alle spillere."
   ]
  },
  {
   "cell_type": "code",
   "execution_count": 23,
   "metadata": {},
   "outputs": [],
   "source": [
    "dict_temp = {}\n",
    "for person in df:\n",
    "    if person!=\"Melding\":\n",
    "        dict_temp[person] = 0\n"
   ]
  },
  {
   "cell_type": "markdown",
   "metadata": {},
   "source": [
    "Arrays der indeholder antal spil spillet pr person:"
   ]
  },
  {
   "cell_type": "code",
   "execution_count": 24,
   "metadata": {},
   "outputs": [
    {
     "data": {
      "text/plain": [
       "{'David': 74,\n",
       " 'William': 61,\n",
       " 'Sofus': 11,\n",
       " 'Gustav': 79,\n",
       " 'Johan': 48,\n",
       " 'Samuel': 53,\n",
       " 'Maria': 9}"
      ]
     },
     "execution_count": 24,
     "metadata": {},
     "output_type": "execute_result"
    }
   ],
   "source": [
    "game_amo_pp = dict_temp.copy()\n",
    "\n",
    "for person in game_amo_pp:\n",
    "    game_amo_pp[person] = amo - counter(df[person],0)\n",
    "\n",
    "game_amo_pp\n"
   ]
  },
  {
   "cell_type": "markdown",
   "metadata": {},
   "source": [
    "Dictionaries der kun indeholder spil som hver enkelte person har deltaget i"
   ]
  },
  {
   "cell_type": "code",
   "execution_count": 25,
   "metadata": {},
   "outputs": [],
   "source": [
    "gamedata_clean = dict_temp.copy()\n",
    "\n",
    "for person in gamedata_clean:\n",
    "    gamedata_clean[person] = df[person].loc[df[person]!=0]"
   ]
  },
  {
   "cell_type": "markdown",
   "metadata": {},
   "source": [
    "# Statisikker"
   ]
  },
  {
   "cell_type": "markdown",
   "metadata": {},
   "source": [
    "### Winning Streaks"
   ]
  },
  {
   "cell_type": "code",
   "execution_count": 26,
   "metadata": {},
   "outputs": [],
   "source": [
    "def win_str_count(df):\n",
    "    \"\"\"\n",
    "    En funktion der tæller hvor mange antal spil en given person har vundet i træk\n",
    "    \"\"\"\n",
    "\n",
    "    max_win = 0\n",
    "    count = 0\n",
    "\n",
    "    for game_score in df:\n",
    "        if game_score > 0:\n",
    "            count += 1\n",
    "        else:\n",
    "            max_win = max(max_win,count)\n",
    "            count = 0\n",
    "    \n",
    "    max_win = max(max_win,count)\n",
    "\n",
    "    return max_win"
   ]
  },
  {
   "cell_type": "markdown",
   "metadata": {},
   "source": [
    "Højeste winningstreak taget forbehold pauser mellem spil (dvs forekommer der spil hvor man ikke har deltaget, så resettes streaken)"
   ]
  },
  {
   "cell_type": "code",
   "execution_count": 31,
   "metadata": {},
   "outputs": [
    {
     "data": {
      "text/plain": [
       "{'David': 7,\n",
       " 'William': 9,\n",
       " 'Sofus': 2,\n",
       " 'Gustav': 5,\n",
       " 'Johan': 4,\n",
       " 'Samuel': 3,\n",
       " 'Maria': 1}"
      ]
     },
     "execution_count": 31,
     "metadata": {},
     "output_type": "execute_result"
    }
   ],
   "source": [
    "dict_winstr_nop = dict_temp.copy()\n",
    "\n",
    "for person in dict_winstr_nop:\n",
    "    dict_winstr_nop[person] = win_str_count(df[person])\n",
    "\n",
    "dict_winstr_nop"
   ]
  },
  {
   "cell_type": "markdown",
   "metadata": {},
   "source": [
    "Højeste winningstreak uden forbehold for pauser mellem spil (Nu ignorerers pauser mellem spil, dvs hvis man vinder et spil, sider over et par spil, og så vinder næste gang man spiller igen, så fortsætter streaken)."
   ]
  },
  {
   "cell_type": "code",
   "execution_count": 32,
   "metadata": {},
   "outputs": [
    {
     "data": {
      "text/plain": [
       "{'David': 7,\n",
       " 'William': 9,\n",
       " 'Sofus': 2,\n",
       " 'Gustav': 5,\n",
       " 'Johan': 4,\n",
       " 'Samuel': 3,\n",
       " 'Maria': 2}"
      ]
     },
     "execution_count": 32,
     "metadata": {},
     "output_type": "execute_result"
    }
   ],
   "source": [
    "dict_winstr_incp = dict_temp.copy()\n",
    "\n",
    "for person in dict_winstr_incp:\n",
    "    dict_winstr_incp[person] = win_str_count(gamedata_clean[person])\n",
    "\n",
    "dict_winstr_incp"
   ]
  },
  {
   "cell_type": "markdown",
   "metadata": {},
   "source": [
    "# Idéer til statistikker"
   ]
  },
  {
   "cell_type": "markdown",
   "metadata": {},
   "source": [
    "Statistik pr personn:\n",
    "- Højeste winning streak\n",
    "- Medianscore\n",
    "- Antal spil spillet\n",
    "- Antal/procent spil tabt/vundet\n",
    "\n",
    "Statistik pr makkerpar:\n",
    "- Den bedste kombination af makkerpar ifht antal vundene spil, pointscore\n",
    "- Den mest hyppige kombi af makkerpar (påvis/debunk the Gutsab-Scmulduo)\n"
   ]
  }
 ],
 "metadata": {
  "interpreter": {
   "hash": "88f8aa9a882d917c46e3304969127c814405ab61640d5a2cf4bb2964abb99d3c"
  },
  "kernelspec": {
   "display_name": "Python 3.10.2 ('bike_env')",
   "language": "python",
   "name": "python3"
  },
  "language_info": {
   "codemirror_mode": {
    "name": "ipython",
    "version": 3
   },
   "file_extension": ".py",
   "mimetype": "text/x-python",
   "name": "python",
   "nbconvert_exporter": "python",
   "pygments_lexer": "ipython3",
   "version": "3.10.2"
  },
  "orig_nbformat": 4
 },
 "nbformat": 4,
 "nbformat_minor": 2
}
