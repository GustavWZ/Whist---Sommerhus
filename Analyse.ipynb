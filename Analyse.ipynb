{
 "cells": [
  {
   "cell_type": "markdown",
   "metadata": {},
   "source": [
    "# Package Import"
   ]
  },
  {
   "cell_type": "code",
   "execution_count": 1,
   "metadata": {},
   "outputs": [],
   "source": [
    "import numpy as np\n",
    "import pandas as pd\n",
    "import matplotlib.pyplot as plt\n",
    "import collections"
   ]
  },
  {
   "cell_type": "markdown",
   "metadata": {},
   "source": [
    "# Data Import"
   ]
  },
  {
   "cell_type": "code",
   "execution_count": 2,
   "metadata": {},
   "outputs": [],
   "source": [
    "df_pre = pd.read_csv(\"Sommerhus22/Sommerhus22_data.csv\", sep=\";\")"
   ]
  },
  {
   "cell_type": "markdown",
   "metadata": {},
   "source": [
    "## Datasortering/Forberedelse"
   ]
  },
  {
   "cell_type": "code",
   "execution_count": 3,
   "metadata": {},
   "outputs": [],
   "source": [
    "def counter(arr,count_check):\n",
    "    \"\"\"\n",
    "    En funktion der tæller hvor mange gange et bestemt element (count_check) \n",
    "    forekommer i et array (arr).\n",
    "    \"\"\"\n",
    "    count_amo = 0\n",
    "    for i in range(len(arr)):\n",
    "        if arr[i] == count_check:\n",
    "            count_amo += 1\n",
    "    \n",
    "    return count_amo\n",
    "\n",
    "\n",
    "def melding_format(df):\n",
    "    \"\"\"\n",
    "    Returnerer et array som sorterer meldingerne ind i to arrays:\n",
    "    En som indholder meldingen, og en som indeholder udfaldet af meldingen.\n",
    "\n",
    "    Fx hvis man i første indgang har \"9g\" og i den anden \"-2\", betyder det man har meldt\n",
    "    9 gode, og efterfølgende tabte med 2 stik.\n",
    "\n",
    "    OBS: Ved hhv Sol og Ren sol indikerer 0.1 og -0.1 (numerisk værdi valgt af praktiske årsager) \n",
    "    om spilleren med den givne melding enten vandt eller tabte runden.\n",
    "    \n",
    "    \"\"\"\n",
    "\n",
    "    arr = df[\"Melding\"]\n",
    "\n",
    "    mel1 = np.zeros_like(arr)\n",
    "    mel2 = np.zeros_like(arr)\n",
    "\n",
    "    count = 0\n",
    "\n",
    "    for melding in arr:\n",
    "        mel_split = melding.split(\",\")\n",
    "\n",
    "        mel1[count] = mel_split[0]\n",
    "\n",
    "        if len(mel_split) > 1:\n",
    "            if mel_split[1][-1] == \"o\":\n",
    "                mel2[count] = int(mel_split[1][-2])\n",
    "            elif mel_split[1][-1] == \"u\":\n",
    "                mel2[count] = -int(mel_split[1][-2])\n",
    "        \n",
    "        elif mel1[count] == \"Sol\" or mel1[count] == \"Rsol\":\n",
    "            if (df.iloc[count][1:] > 0).sum() == 3:\n",
    "                mel2[count] = -0.1\n",
    "            else:\n",
    "                mel2[count] = 0.1\n",
    "\n",
    "        count += 1\n",
    "\n",
    "    return {'Melding': mel1, 'Resultat': mel2}\n",
    "\n",
    "\n",
    "def remove_persons(df,persons=[]):\n",
    "    \"\"\"\n",
    "    En funktion der fjerner en/flere spiller(e) og alle tilhørende spil den/de person(er) har deltaget i.\n",
    "\n",
    "    OBS: Input skal være en liste, også hvis man kun ønsker at fjerne én person.\n",
    "    \"\"\"\n",
    "    df_return = df.copy()\n",
    "\n",
    "    for person in persons:\n",
    "        df_return = df_return.loc[df[person] == 0]\n",
    "        df_return = df_return.drop(columns=person)\n",
    "    \n",
    "    return df_return.reset_index().drop(columns=\"index\")\n"
   ]
  },
  {
   "cell_type": "markdown",
   "metadata": {},
   "source": [
    "### (Optional) Fjerner ønskede personer fra data."
   ]
  },
  {
   "cell_type": "code",
   "execution_count": 4,
   "metadata": {},
   "outputs": [],
   "source": [
    "persons_remove = [\"Maria\"] # Lad blot listen være tom hvis ingen ønskes fjernet fra data\n",
    "\n",
    "df = remove_persons(df_pre, persons_remove)"
   ]
  },
  {
   "cell_type": "markdown",
   "metadata": {},
   "source": [
    "Laver en dictionary-template som indeholder alle spillere."
   ]
  },
  {
   "cell_type": "code",
   "execution_count": 5,
   "metadata": {},
   "outputs": [],
   "source": [
    "dict_temp = {}\n",
    "for person in df:\n",
    "    if person != \"Melding\":\n",
    "        dict_temp[person] = 0\n"
   ]
  },
  {
   "cell_type": "markdown",
   "metadata": {},
   "source": []
  },
  {
   "cell_type": "markdown",
   "metadata": {},
   "source": [
    "Arrays der indeholder antal spil spillet pr person:"
   ]
  },
  {
   "cell_type": "code",
   "execution_count": 6,
   "metadata": {},
   "outputs": [
    {
     "data": {
      "text/plain": [
       "{'David': 63, 'William': 51, 'Gustav': 65, 'Johan': 48, 'Samuel': 48}"
      ]
     },
     "execution_count": 6,
     "metadata": {},
     "output_type": "execute_result"
    }
   ],
   "source": [
    "amo = len(df)\n",
    "\n",
    "game_amo_pp = dict_temp.copy()\n",
    "\n",
    "for person in game_amo_pp:\n",
    "    game_amo_pp[person] = amo - counter(df[person],0)\n",
    "\n",
    "game_amo_pp\n"
   ]
  },
  {
   "cell_type": "markdown",
   "metadata": {},
   "source": []
  },
  {
   "cell_type": "markdown",
   "metadata": {},
   "source": [
    "Dictionaries der kun indeholder spil som hver enkelte person har deltaget i"
   ]
  },
  {
   "cell_type": "code",
   "execution_count": 7,
   "metadata": {},
   "outputs": [],
   "source": [
    "gamedata_clean = dict_temp.copy()\n",
    "\n",
    "for person in gamedata_clean:\n",
    "    gamedata_clean[person] = df[person].loc[df[person]!=0]"
   ]
  },
  {
   "cell_type": "markdown",
   "metadata": {},
   "source": [
    "# Statisikker"
   ]
  },
  {
   "cell_type": "markdown",
   "metadata": {},
   "source": [
    "Først og fremmest ser vi lige på den endelige pointsum."
   ]
  },
  {
   "cell_type": "code",
   "execution_count": 8,
   "metadata": {},
   "outputs": [
    {
     "data": {
      "text/plain": [
       "{'David': 11.6,\n",
       " 'William': -6.12,\n",
       " 'Gustav': -2.37,\n",
       " 'Johan': 2.18,\n",
       " 'Samuel': -5.0}"
      ]
     },
     "execution_count": 8,
     "metadata": {},
     "output_type": "execute_result"
    }
   ],
   "source": [
    "points_tot = dict_temp.copy()\n",
    "\n",
    "for person in points_tot:\n",
    "    points_tot[person] = round(df[person].sum(),2)\n",
    "\n",
    "points_tot"
   ]
  },
  {
   "cell_type": "markdown",
   "metadata": {},
   "source": [
    "### Winning Streaks"
   ]
  },
  {
   "cell_type": "code",
   "execution_count": 9,
   "metadata": {},
   "outputs": [],
   "source": [
    "def win_str_count(df):\n",
    "    \"\"\"\n",
    "    En funktion der tæller hvor mange antal spil en given person har vundet i træk\n",
    "    \"\"\"\n",
    "\n",
    "    max_win = 0\n",
    "    count = 0\n",
    "\n",
    "    for game_score in df:\n",
    "        if game_score > 0:\n",
    "            count += 1\n",
    "        else:\n",
    "            max_win = max(max_win,count)\n",
    "            count = 0\n",
    "    \n",
    "    max_win = max(max_win,count)\n",
    "\n",
    "    return max_win"
   ]
  },
  {
   "cell_type": "markdown",
   "metadata": {},
   "source": [
    "Højeste winningstreak taget forbehold pauser mellem spil (dvs forekommer der spil hvor man ikke har deltaget, så resettes streaken)"
   ]
  },
  {
   "cell_type": "code",
   "execution_count": 10,
   "metadata": {},
   "outputs": [
    {
     "data": {
      "text/plain": [
       "{'David': 7, 'William': 8, 'Gustav': 5, 'Johan': 4, 'Samuel': 3}"
      ]
     },
     "execution_count": 10,
     "metadata": {},
     "output_type": "execute_result"
    }
   ],
   "source": [
    "dict_winstr_nop = dict_temp.copy()\n",
    "\n",
    "for person in dict_winstr_nop:\n",
    "    dict_winstr_nop[person] = win_str_count(df[person])\n",
    "\n",
    "dict_winstr_nop"
   ]
  },
  {
   "cell_type": "markdown",
   "metadata": {},
   "source": []
  },
  {
   "cell_type": "markdown",
   "metadata": {},
   "source": [
    "Højeste winningstreak uden forbehold for pauser mellem spil (Nu ignorerers pauser mellem spil, dvs hvis man vinder et spil, sider over et par spil, og så vinder næste gang man spiller igen, så fortsætter streaken)."
   ]
  },
  {
   "cell_type": "code",
   "execution_count": 11,
   "metadata": {},
   "outputs": [
    {
     "data": {
      "text/plain": [
       "{'David': 7, 'William': 8, 'Gustav': 5, 'Johan': 4, 'Samuel': 3}"
      ]
     },
     "execution_count": 11,
     "metadata": {},
     "output_type": "execute_result"
    }
   ],
   "source": [
    "dict_winstr_incp = dict_temp.copy()\n",
    "\n",
    "for person in dict_winstr_incp:\n",
    "    dict_winstr_incp[person] = win_str_count(gamedata_clean[person])\n",
    "\n",
    "dict_winstr_incp"
   ]
  },
  {
   "cell_type": "markdown",
   "metadata": {},
   "source": []
  },
  {
   "cell_type": "markdown",
   "metadata": {},
   "source": [
    "### Statistikker over Point"
   ]
  },
  {
   "cell_type": "code",
   "execution_count": 12,
   "metadata": {},
   "outputs": [],
   "source": [
    "avg = dict_temp.copy()\n",
    "medians = dict_temp.copy()\n",
    "stds = dict_temp.copy()\n",
    "mins = dict_temp.copy()\n",
    "maxs = dict_temp.copy()\n",
    "\n",
    "for person in gamedata_clean:\n",
    "    medians[person] = round(np.median(gamedata_clean[person]),2)\n",
    "    avg[person] = round(np.average(gamedata_clean[person]),2)\n",
    "    stds[person] = round(np.std(gamedata_clean[person]),2)\n",
    "    mins[person] = np.min(gamedata_clean[person])\n",
    "    maxs[person] = np.max(gamedata_clean[person])"
   ]
  },
  {
   "cell_type": "markdown",
   "metadata": {},
   "source": [
    "Gennemsnitscore"
   ]
  },
  {
   "cell_type": "code",
   "execution_count": 13,
   "metadata": {},
   "outputs": [
    {
     "data": {
      "text/plain": [
       "{'David': 0.18,\n",
       " 'William': -0.12,\n",
       " 'Gustav': -0.04,\n",
       " 'Johan': 0.05,\n",
       " 'Samuel': -0.1}"
      ]
     },
     "execution_count": 13,
     "metadata": {},
     "output_type": "execute_result"
    }
   ],
   "source": [
    "avg"
   ]
  },
  {
   "cell_type": "markdown",
   "metadata": {},
   "source": []
  },
  {
   "cell_type": "markdown",
   "metadata": {},
   "source": [
    "Medianscore"
   ]
  },
  {
   "cell_type": "code",
   "execution_count": 14,
   "metadata": {},
   "outputs": [
    {
     "data": {
      "text/plain": [
       "{'David': 0.2, 'William': -0.1, 'Gustav': 0.2, 'Johan': 0.2, 'Samuel': -0.2}"
      ]
     },
     "execution_count": 14,
     "metadata": {},
     "output_type": "execute_result"
    }
   ],
   "source": [
    "medians"
   ]
  },
  {
   "cell_type": "markdown",
   "metadata": {},
   "source": []
  },
  {
   "cell_type": "markdown",
   "metadata": {},
   "source": [
    "Spredning af point"
   ]
  },
  {
   "cell_type": "code",
   "execution_count": 15,
   "metadata": {},
   "outputs": [
    {
     "data": {
      "text/plain": [
       "{'David': 0.97, 'William': 1.11, 'Gustav': 1.0, 'Johan': 0.99, 'Samuel': 0.94}"
      ]
     },
     "execution_count": 15,
     "metadata": {},
     "output_type": "execute_result"
    }
   ],
   "source": [
    "stds"
   ]
  },
  {
   "cell_type": "markdown",
   "metadata": {},
   "source": []
  },
  {
   "cell_type": "markdown",
   "metadata": {},
   "source": [
    "Laveste score"
   ]
  },
  {
   "cell_type": "code",
   "execution_count": 16,
   "metadata": {},
   "outputs": [
    {
     "data": {
      "text/plain": [
       "{'David': -1.6, 'William': -3.0, 'Gustav': -3.2, 'Johan': -3.2, 'Samuel': -2.4}"
      ]
     },
     "execution_count": 16,
     "metadata": {},
     "output_type": "execute_result"
    }
   ],
   "source": [
    "mins"
   ]
  },
  {
   "cell_type": "markdown",
   "metadata": {},
   "source": []
  },
  {
   "cell_type": "markdown",
   "metadata": {},
   "source": [
    "Højeste score"
   ]
  },
  {
   "cell_type": "code",
   "execution_count": 17,
   "metadata": {},
   "outputs": [
    {
     "data": {
      "text/plain": [
       "{'David': 3.2, 'William': 3.2, 'Gustav': 2.4, 'Johan': 2.4, 'Samuel': 2.7}"
      ]
     },
     "execution_count": 17,
     "metadata": {},
     "output_type": "execute_result"
    }
   ],
   "source": [
    "maxs"
   ]
  },
  {
   "cell_type": "markdown",
   "metadata": {},
   "source": []
  },
  {
   "cell_type": "markdown",
   "metadata": {},
   "source": [
    "Boxplots"
   ]
  },
  {
   "cell_type": "code",
   "execution_count": 18,
   "metadata": {},
   "outputs": [
    {
     "data": {
      "image/png": "[encoded data removed]",
      "text/plain": [
       "<Figure size 576x432 with 1 Axes>"
      ]
     },
     "metadata": {
      "needs_background": "light"
     },
     "output_type": "display_data"
    }
   ],
   "source": [
    "fig = plt.figure(figsize=(8,6))\n",
    "ax = fig.add_axes([0,0,1,1])\n",
    "ax.boxplot(gamedata_clean.values())\n",
    "ax.set_xticklabels(gamedata_clean.keys())\n",
    "plt.grid()\n",
    "plt.show()"
   ]
  },
  {
   "cell_type": "markdown",
   "metadata": {},
   "source": []
  },
  {
   "cell_type": "markdown",
   "metadata": {},
   "source": [
    "Antal vundne spil pr person"
   ]
  },
  {
   "cell_type": "code",
   "execution_count": 19,
   "metadata": {},
   "outputs": [
    {
     "data": {
      "text/plain": [
       "{'David': 35, 'William': 25, 'Gustav': 35, 'Johan': 28, 'Samuel': 22}"
      ]
     },
     "execution_count": 19,
     "metadata": {},
     "output_type": "execute_result"
    }
   ],
   "source": [
    "wins_tot = dict_temp.copy()\n",
    "loss_tot = dict_temp.copy()\n",
    "wins_tot_rel  = dict_temp.copy()\n",
    "\n",
    "for person in wins_tot:\n",
    "    wins_tot[person] = (gamedata_clean[person] > 0).sum()\n",
    "    loss_tot[person] = (gamedata_clean[person] < 0).sum()\n",
    "    wins_tot_rel[person] = round(wins_tot[person]/game_amo_pp[person],2)\n",
    "\n",
    "wins_tot"
   ]
  },
  {
   "cell_type": "markdown",
   "metadata": {},
   "source": []
  },
  {
   "cell_type": "markdown",
   "metadata": {},
   "source": [
    "Antal tabte spil pr person"
   ]
  },
  {
   "cell_type": "code",
   "execution_count": 20,
   "metadata": {},
   "outputs": [
    {
     "data": {
      "text/plain": [
       "{'David': 28, 'William': 26, 'Gustav': 30, 'Johan': 20, 'Samuel': 26}"
      ]
     },
     "execution_count": 20,
     "metadata": {},
     "output_type": "execute_result"
    }
   ],
   "source": [
    "loss_tot"
   ]
  },
  {
   "cell_type": "markdown",
   "metadata": {},
   "source": []
  },
  {
   "cell_type": "markdown",
   "metadata": {},
   "source": [
    "Antal vundne spil relativ til samlet antal spil pr person"
   ]
  },
  {
   "cell_type": "code",
   "execution_count": 21,
   "metadata": {},
   "outputs": [
    {
     "data": {
      "text/plain": [
       "{'David': 0.56, 'William': 0.49, 'Gustav': 0.54, 'Johan': 0.58, 'Samuel': 0.46}"
      ]
     },
     "execution_count": 21,
     "metadata": {},
     "output_type": "execute_result"
    }
   ],
   "source": [
    "wins_tot_rel"
   ]
  },
  {
   "cell_type": "markdown",
   "metadata": {},
   "source": [
    "### Statistikker over meldinger"
   ]
  },
  {
   "cell_type": "code",
   "execution_count": 22,
   "metadata": {},
   "outputs": [],
   "source": [
    "meldinger = melding_format(df)"
   ]
  },
  {
   "cell_type": "markdown",
   "metadata": {},
   "source": [
    "Antal forekomster af hver melding:"
   ]
  },
  {
   "cell_type": "code",
   "execution_count": 23,
   "metadata": {},
   "outputs": [
    {
     "data": {
      "image/png": "[encoded data removed]",
      "text/plain": [
       "<Figure size 432x288 with 1 Axes>"
      ]
     },
     "metadata": {
      "needs_background": "light"
     },
     "output_type": "display_data"
    }
   ],
   "source": [
    "meldinger_count = collections.Counter(meldinger[\"Melding\"])\n",
    "\n",
    "plt.bar(*zip(*meldinger_count.items()))\n",
    "plt.show()"
   ]
  },
  {
   "cell_type": "markdown",
   "metadata": {},
   "source": []
  },
  {
   "cell_type": "markdown",
   "metadata": {},
   "source": [
    "Antal vundne spil, hvor man har fået flere stik end meldt"
   ]
  },
  {
   "cell_type": "code",
   "execution_count": 24,
   "metadata": {},
   "outputs": [
    {
     "data": {
      "text/plain": [
       "{'David': 20, 'William': 10, 'Gustav': 14, 'Johan': 7, 'Samuel': 11}"
      ]
     },
     "execution_count": 24,
     "metadata": {},
     "output_type": "execute_result"
    }
   ],
   "source": [
    "wins_op = dict_temp.copy()\n",
    "\n",
    "count = 0\n",
    "for udfald in meldinger[\"Resultat\"]:\n",
    "    if udfald > 0.1:\n",
    "        for person in wins_op:\n",
    "            if df.iloc[count][person] > 0:\n",
    "                wins_op[person] += 1\n",
    "\n",
    "    count += 1\n",
    "\n",
    "wins_op"
   ]
  },
  {
   "cell_type": "markdown",
   "metadata": {},
   "source": []
  },
  {
   "cell_type": "markdown",
   "metadata": {},
   "source": [
    "Antal vundne spil, hvor man har fået flere stik end meldt, relativt til hvor mange spil man har spillet i alt"
   ]
  },
  {
   "cell_type": "code",
   "execution_count": 25,
   "metadata": {},
   "outputs": [
    {
     "data": {
      "text/plain": [
       "{'David': 0.32, 'William': 0.2, 'Gustav': 0.22, 'Johan': 0.15, 'Samuel': 0.23}"
      ]
     },
     "execution_count": 25,
     "metadata": {},
     "output_type": "execute_result"
    }
   ],
   "source": [
    "wins_op_rel = dict_temp.copy()\n",
    "\n",
    "for person in wins_op_rel:\n",
    "    wins_op_rel[person] = round(wins_op[person]/game_amo_pp[person],2)\n",
    "\n",
    "wins_op_rel"
   ]
  },
  {
   "cell_type": "markdown",
   "metadata": {},
   "source": []
  },
  {
   "cell_type": "markdown",
   "metadata": {},
   "source": [
    "## Par-statistikker"
   ]
  },
  {
   "cell_type": "markdown",
   "metadata": {},
   "source": [
    "Først laves en template dictionary som indeholder makkerparkombinationer"
   ]
  },
  {
   "cell_type": "code",
   "execution_count": 26,
   "metadata": {},
   "outputs": [],
   "source": [
    "pairs_temp = {}\n",
    "\n",
    "for p1 in dict_temp:\n",
    "    for p2 in dict_temp:\n",
    "        pairs_temp[p1,p2] = 0"
   ]
  },
  {
   "cell_type": "markdown",
   "metadata": {},
   "source": [
    "### Samlede antal spil"
   ]
  },
  {
   "cell_type": "markdown",
   "metadata": {},
   "source": [
    "Antal spil som hver personkombination har deltaget i sammen (dvs inkl som både makker og modstander)"
   ]
  },
  {
   "cell_type": "code",
   "execution_count": 27,
   "metadata": {},
   "outputs": [
    {
     "data": {
      "text/html": [
       "<div>\n",
       "<style scoped>\n",
       "    .dataframe tbody tr th:only-of-type {\n",
       "        vertical-align: middle;\n",
       "    }\n",
       "\n",
       "    .dataframe tbody tr th {\n",
       "        vertical-align: top;\n",
       "    }\n",
       "\n",
       "    .dataframe thead tr th {\n",
       "        text-align: left;\n",
       "    }\n",
       "</style>\n",
       "<table border=\"1\" class=\"dataframe\">\n",
       "  <thead>\n",
       "    <tr>\n",
       "      <th></th>\n",
       "      <th colspan=\"5\" halign=\"left\">0</th>\n",
       "    </tr>\n",
       "    <tr>\n",
       "      <th></th>\n",
       "      <th>David</th>\n",
       "      <th>Gustav</th>\n",
       "      <th>Johan</th>\n",
       "      <th>Samuel</th>\n",
       "      <th>William</th>\n",
       "    </tr>\n",
       "  </thead>\n",
       "  <tbody>\n",
       "    <tr>\n",
       "      <th>David</th>\n",
       "      <td>63</td>\n",
       "      <td>60</td>\n",
       "      <td>42</td>\n",
       "      <td>42</td>\n",
       "      <td>45</td>\n",
       "    </tr>\n",
       "    <tr>\n",
       "      <th>Gustav</th>\n",
       "      <td>60</td>\n",
       "      <td>65</td>\n",
       "      <td>44</td>\n",
       "      <td>44</td>\n",
       "      <td>47</td>\n",
       "    </tr>\n",
       "    <tr>\n",
       "      <th>Johan</th>\n",
       "      <td>42</td>\n",
       "      <td>44</td>\n",
       "      <td>48</td>\n",
       "      <td>27</td>\n",
       "      <td>30</td>\n",
       "    </tr>\n",
       "    <tr>\n",
       "      <th>Samuel</th>\n",
       "      <td>42</td>\n",
       "      <td>44</td>\n",
       "      <td>27</td>\n",
       "      <td>48</td>\n",
       "      <td>30</td>\n",
       "    </tr>\n",
       "    <tr>\n",
       "      <th>William</th>\n",
       "      <td>45</td>\n",
       "      <td>47</td>\n",
       "      <td>30</td>\n",
       "      <td>30</td>\n",
       "      <td>51</td>\n",
       "    </tr>\n",
       "  </tbody>\n",
       "</table>\n",
       "</div>"
      ],
      "text/plain": [
       "            0                            \n",
       "        David Gustav Johan Samuel William\n",
       "David      63     60    42     42      45\n",
       "Gustav     60     65    44     44      47\n",
       "Johan      42     44    48     27      30\n",
       "Samuel     42     44    27     48      30\n",
       "William    45     47    30     30      51"
      ]
     },
     "execution_count": 27,
     "metadata": {},
     "output_type": "execute_result"
    }
   ],
   "source": [
    "game_amo_pairs = pairs_temp.copy()\n",
    "\n",
    "for i in range(amo):\n",
    "    for p1, p2 in game_amo_pairs:\n",
    "        if df.iloc[i][p1] != 0 and df.iloc[i][p2] != 0:\n",
    "            game_amo_pairs[p1,p2] += 1\n",
    "\n",
    "\n",
    "game_amo_pairs_df = pd.DataFrame(game_amo_pairs.values(), index=pd.MultiIndex.from_tuples(game_amo_pairs.keys())).unstack(1)\n",
    "game_amo_pairs_df"
   ]
  },
  {
   "cell_type": "markdown",
   "metadata": {},
   "source": []
  },
  {
   "cell_type": "markdown",
   "metadata": {},
   "source": [
    "Antal spil spillet i hver makkerparkombination, incl sol og ren sol"
   ]
  },
  {
   "cell_type": "code",
   "execution_count": 28,
   "metadata": {},
   "outputs": [
    {
     "data": {
      "text/html": [
       "<div>\n",
       "<style scoped>\n",
       "    .dataframe tbody tr th:only-of-type {\n",
       "        vertical-align: middle;\n",
       "    }\n",
       "\n",
       "    .dataframe tbody tr th {\n",
       "        vertical-align: top;\n",
       "    }\n",
       "\n",
       "    .dataframe thead tr th {\n",
       "        text-align: left;\n",
       "    }\n",
       "</style>\n",
       "<table border=\"1\" class=\"dataframe\">\n",
       "  <thead>\n",
       "    <tr>\n",
       "      <th></th>\n",
       "      <th colspan=\"5\" halign=\"left\">0</th>\n",
       "    </tr>\n",
       "    <tr>\n",
       "      <th></th>\n",
       "      <th>David</th>\n",
       "      <th>Gustav</th>\n",
       "      <th>Johan</th>\n",
       "      <th>Samuel</th>\n",
       "      <th>William</th>\n",
       "    </tr>\n",
       "  </thead>\n",
       "  <tbody>\n",
       "    <tr>\n",
       "      <th>David</th>\n",
       "      <td>63</td>\n",
       "      <td>14</td>\n",
       "      <td>16</td>\n",
       "      <td>14</td>\n",
       "      <td>21</td>\n",
       "    </tr>\n",
       "    <tr>\n",
       "      <th>Gustav</th>\n",
       "      <td>14</td>\n",
       "      <td>65</td>\n",
       "      <td>22</td>\n",
       "      <td>18</td>\n",
       "      <td>14</td>\n",
       "    </tr>\n",
       "    <tr>\n",
       "      <th>Johan</th>\n",
       "      <td>16</td>\n",
       "      <td>22</td>\n",
       "      <td>48</td>\n",
       "      <td>10</td>\n",
       "      <td>12</td>\n",
       "    </tr>\n",
       "    <tr>\n",
       "      <th>Samuel</th>\n",
       "      <td>14</td>\n",
       "      <td>18</td>\n",
       "      <td>10</td>\n",
       "      <td>48</td>\n",
       "      <td>13</td>\n",
       "    </tr>\n",
       "    <tr>\n",
       "      <th>William</th>\n",
       "      <td>21</td>\n",
       "      <td>14</td>\n",
       "      <td>12</td>\n",
       "      <td>13</td>\n",
       "      <td>51</td>\n",
       "    </tr>\n",
       "  </tbody>\n",
       "</table>\n",
       "</div>"
      ],
      "text/plain": [
       "            0                            \n",
       "        David Gustav Johan Samuel William\n",
       "David      63     14    16     14      21\n",
       "Gustav     14     65    22     18      14\n",
       "Johan      16     22    48     10      12\n",
       "Samuel     14     18    10     48      13\n",
       "William    21     14    12     13      51"
      ]
     },
     "execution_count": 28,
     "metadata": {},
     "output_type": "execute_result"
    }
   ],
   "source": [
    "makre_amo_pairs = pairs_temp.copy()\n",
    "\n",
    "for i in range(amo):\n",
    "    for p1, p2 in makre_amo_pairs:\n",
    "        if df.iloc[i][p1] > 0 and df.iloc[i][p2] > 0:\n",
    "            makre_amo_pairs[p1,p2] += 1\n",
    "        elif df.iloc[i][p1] < 0 and df.iloc[i][p2] < 0:\n",
    "            makre_amo_pairs[p1,p2] += 1\n",
    "\n",
    "\n",
    "makre_amo_pairs_df = pd.DataFrame(makre_amo_pairs.values(), index=pd.MultiIndex.from_tuples(makre_amo_pairs.keys())).unstack(1)\n",
    "makre_amo_pairs_df"
   ]
  },
  {
   "cell_type": "markdown",
   "metadata": {},
   "source": []
  },
  {
   "cell_type": "markdown",
   "metadata": {},
   "source": [
    "Antal spil spillet i hver makkerparkombination, eskl sol og ren sol"
   ]
  },
  {
   "cell_type": "code",
   "execution_count": 29,
   "metadata": {},
   "outputs": [
    {
     "data": {
      "text/html": [
       "<div>\n",
       "<style scoped>\n",
       "    .dataframe tbody tr th:only-of-type {\n",
       "        vertical-align: middle;\n",
       "    }\n",
       "\n",
       "    .dataframe tbody tr th {\n",
       "        vertical-align: top;\n",
       "    }\n",
       "\n",
       "    .dataframe thead tr th {\n",
       "        text-align: left;\n",
       "    }\n",
       "</style>\n",
       "<table border=\"1\" class=\"dataframe\">\n",
       "  <thead>\n",
       "    <tr>\n",
       "      <th></th>\n",
       "      <th colspan=\"5\" halign=\"left\">0</th>\n",
       "    </tr>\n",
       "    <tr>\n",
       "      <th></th>\n",
       "      <th>David</th>\n",
       "      <th>Gustav</th>\n",
       "      <th>Johan</th>\n",
       "      <th>Samuel</th>\n",
       "      <th>William</th>\n",
       "    </tr>\n",
       "  </thead>\n",
       "  <tbody>\n",
       "    <tr>\n",
       "      <th>David</th>\n",
       "      <td>50</td>\n",
       "      <td>13</td>\n",
       "      <td>11</td>\n",
       "      <td>10</td>\n",
       "      <td>17</td>\n",
       "    </tr>\n",
       "    <tr>\n",
       "      <th>Gustav</th>\n",
       "      <td>13</td>\n",
       "      <td>51</td>\n",
       "      <td>17</td>\n",
       "      <td>13</td>\n",
       "      <td>9</td>\n",
       "    </tr>\n",
       "    <tr>\n",
       "      <th>Johan</th>\n",
       "      <td>11</td>\n",
       "      <td>17</td>\n",
       "      <td>39</td>\n",
       "      <td>6</td>\n",
       "      <td>8</td>\n",
       "    </tr>\n",
       "    <tr>\n",
       "      <th>Samuel</th>\n",
       "      <td>10</td>\n",
       "      <td>13</td>\n",
       "      <td>6</td>\n",
       "      <td>37</td>\n",
       "      <td>8</td>\n",
       "    </tr>\n",
       "    <tr>\n",
       "      <th>William</th>\n",
       "      <td>17</td>\n",
       "      <td>9</td>\n",
       "      <td>8</td>\n",
       "      <td>8</td>\n",
       "      <td>42</td>\n",
       "    </tr>\n",
       "  </tbody>\n",
       "</table>\n",
       "</div>"
      ],
      "text/plain": [
       "            0                            \n",
       "        David Gustav Johan Samuel William\n",
       "David      50     13    11     10      17\n",
       "Gustav     13     51    17     13       9\n",
       "Johan      11     17    39      6       8\n",
       "Samuel     10     13     6     37       8\n",
       "William    17      9     8      8      42"
      ]
     },
     "execution_count": 29,
     "metadata": {},
     "output_type": "execute_result"
    }
   ],
   "source": [
    "makre_amo_pairs_nosol = pairs_temp.copy()\n",
    "\n",
    "for i in range(amo):\n",
    "    if df.iloc[i][\"Melding\"] != \"Sol\" and df.iloc[i][\"Melding\"] != \"Rsol\":\n",
    "        for p1, p2 in makre_amo_pairs_nosol:\n",
    "            if df.iloc[i][p1] > 0 and df.iloc[i][p2] > 0:\n",
    "                makre_amo_pairs_nosol[p1,p2] += 1\n",
    "            elif df.iloc[i][p1] < 0 and df.iloc[i][p2] < 0:\n",
    "                makre_amo_pairs_nosol[p1,p2] += 1\n",
    "                    \n",
    "\n",
    "makre_amo_pairs_nosol_df = pd.DataFrame(makre_amo_pairs_nosol.values(), index=pd.MultiIndex.from_tuples(makre_amo_pairs_nosol.keys())).unstack(1)\n",
    "makre_amo_pairs_nosol_df"
   ]
  },
  {
   "cell_type": "markdown",
   "metadata": {},
   "source": []
  },
  {
   "cell_type": "markdown",
   "metadata": {},
   "source": [
    "Antal spil spillet i hver makkerparkombination, incl sol og ren sol, korrigeret (divideret) med antal spil parret har deltaget i sammen. Dvs man får hvor ofte (i procent) to spillere har været makre over alle de spil som begge personer har deltaget i."
   ]
  },
  {
   "cell_type": "code",
   "execution_count": 30,
   "metadata": {},
   "outputs": [
    {
     "data": {
      "text/html": [
       "<div>\n",
       "<style scoped>\n",
       "    .dataframe tbody tr th:only-of-type {\n",
       "        vertical-align: middle;\n",
       "    }\n",
       "\n",
       "    .dataframe tbody tr th {\n",
       "        vertical-align: top;\n",
       "    }\n",
       "\n",
       "    .dataframe thead tr th {\n",
       "        text-align: left;\n",
       "    }\n",
       "</style>\n",
       "<table border=\"1\" class=\"dataframe\">\n",
       "  <thead>\n",
       "    <tr>\n",
       "      <th></th>\n",
       "      <th colspan=\"5\" halign=\"left\">0</th>\n",
       "    </tr>\n",
       "    <tr>\n",
       "      <th></th>\n",
       "      <th>David</th>\n",
       "      <th>Gustav</th>\n",
       "      <th>Johan</th>\n",
       "      <th>Samuel</th>\n",
       "      <th>William</th>\n",
       "    </tr>\n",
       "  </thead>\n",
       "  <tbody>\n",
       "    <tr>\n",
       "      <th>David</th>\n",
       "      <td>1.00</td>\n",
       "      <td>0.23</td>\n",
       "      <td>0.38</td>\n",
       "      <td>0.33</td>\n",
       "      <td>0.47</td>\n",
       "    </tr>\n",
       "    <tr>\n",
       "      <th>Gustav</th>\n",
       "      <td>0.23</td>\n",
       "      <td>1.00</td>\n",
       "      <td>0.50</td>\n",
       "      <td>0.41</td>\n",
       "      <td>0.30</td>\n",
       "    </tr>\n",
       "    <tr>\n",
       "      <th>Johan</th>\n",
       "      <td>0.38</td>\n",
       "      <td>0.50</td>\n",
       "      <td>1.00</td>\n",
       "      <td>0.37</td>\n",
       "      <td>0.40</td>\n",
       "    </tr>\n",
       "    <tr>\n",
       "      <th>Samuel</th>\n",
       "      <td>0.33</td>\n",
       "      <td>0.41</td>\n",
       "      <td>0.37</td>\n",
       "      <td>1.00</td>\n",
       "      <td>0.43</td>\n",
       "    </tr>\n",
       "    <tr>\n",
       "      <th>William</th>\n",
       "      <td>0.47</td>\n",
       "      <td>0.30</td>\n",
       "      <td>0.40</td>\n",
       "      <td>0.43</td>\n",
       "      <td>1.00</td>\n",
       "    </tr>\n",
       "  </tbody>\n",
       "</table>\n",
       "</div>"
      ],
      "text/plain": [
       "            0                            \n",
       "        David Gustav Johan Samuel William\n",
       "David    1.00   0.23  0.38   0.33    0.47\n",
       "Gustav   0.23   1.00  0.50   0.41    0.30\n",
       "Johan    0.38   0.50  1.00   0.37    0.40\n",
       "Samuel   0.33   0.41  0.37   1.00    0.43\n",
       "William  0.47   0.30  0.40   0.43    1.00"
      ]
     },
     "execution_count": 30,
     "metadata": {},
     "output_type": "execute_result"
    }
   ],
   "source": [
    "makre_amo_pairs_corr = pairs_temp.copy()\n",
    "\n",
    "for p1,p2 in makre_amo_pairs_corr:\n",
    "    if game_amo_pairs[p1,p2] != 0:\n",
    "        makre_amo_pairs_corr[p1,p2] = makre_amo_pairs[p1,p2]/game_amo_pairs[p1,p2]\n",
    "\n",
    "makre_amo_pairs_corr_df = pd.DataFrame(makre_amo_pairs_corr.values(), index=pd.MultiIndex.from_tuples(makre_amo_pairs_corr.keys())).unstack(1)\n",
    "makre_amo_pairs_corr_df.round(decimals=2)"
   ]
  },
  {
   "cell_type": "markdown",
   "metadata": {},
   "source": []
  },
  {
   "cell_type": "markdown",
   "metadata": {},
   "source": [
    "### Antal vundne spil"
   ]
  },
  {
   "cell_type": "markdown",
   "metadata": {},
   "source": [
    "Antal vundne spil pr makkerpar"
   ]
  },
  {
   "cell_type": "code",
   "execution_count": 31,
   "metadata": {},
   "outputs": [
    {
     "data": {
      "text/html": [
       "<div>\n",
       "<style scoped>\n",
       "    .dataframe tbody tr th:only-of-type {\n",
       "        vertical-align: middle;\n",
       "    }\n",
       "\n",
       "    .dataframe tbody tr th {\n",
       "        vertical-align: top;\n",
       "    }\n",
       "\n",
       "    .dataframe thead tr th {\n",
       "        text-align: left;\n",
       "    }\n",
       "</style>\n",
       "<table border=\"1\" class=\"dataframe\">\n",
       "  <thead>\n",
       "    <tr>\n",
       "      <th></th>\n",
       "      <th colspan=\"5\" halign=\"left\">0</th>\n",
       "    </tr>\n",
       "    <tr>\n",
       "      <th></th>\n",
       "      <th>David</th>\n",
       "      <th>Gustav</th>\n",
       "      <th>Johan</th>\n",
       "      <th>Samuel</th>\n",
       "      <th>William</th>\n",
       "    </tr>\n",
       "  </thead>\n",
       "  <tbody>\n",
       "    <tr>\n",
       "      <th>David</th>\n",
       "      <td>35</td>\n",
       "      <td>10</td>\n",
       "      <td>11</td>\n",
       "      <td>6</td>\n",
       "      <td>13</td>\n",
       "    </tr>\n",
       "    <tr>\n",
       "      <th>Gustav</th>\n",
       "      <td>10</td>\n",
       "      <td>35</td>\n",
       "      <td>13</td>\n",
       "      <td>10</td>\n",
       "      <td>7</td>\n",
       "    </tr>\n",
       "    <tr>\n",
       "      <th>Johan</th>\n",
       "      <td>11</td>\n",
       "      <td>13</td>\n",
       "      <td>28</td>\n",
       "      <td>6</td>\n",
       "      <td>7</td>\n",
       "    </tr>\n",
       "    <tr>\n",
       "      <th>Samuel</th>\n",
       "      <td>6</td>\n",
       "      <td>10</td>\n",
       "      <td>6</td>\n",
       "      <td>22</td>\n",
       "      <td>5</td>\n",
       "    </tr>\n",
       "    <tr>\n",
       "      <th>William</th>\n",
       "      <td>13</td>\n",
       "      <td>7</td>\n",
       "      <td>7</td>\n",
       "      <td>5</td>\n",
       "      <td>25</td>\n",
       "    </tr>\n",
       "  </tbody>\n",
       "</table>\n",
       "</div>"
      ],
      "text/plain": [
       "            0                            \n",
       "        David Gustav Johan Samuel William\n",
       "David      35     10    11      6      13\n",
       "Gustav     10     35    13     10       7\n",
       "Johan      11     13    28      6       7\n",
       "Samuel      6     10     6     22       5\n",
       "William    13      7     7      5      25"
      ]
     },
     "execution_count": 31,
     "metadata": {},
     "output_type": "execute_result"
    }
   ],
   "source": [
    "wins_amo_pairs = pairs_temp.copy()\n",
    "\n",
    "for i in range(amo):\n",
    "    for p1,p2 in wins_amo_pairs:\n",
    "        if df.iloc[i][p1] > 0 and df.iloc[i][p2] > 0:\n",
    "            wins_amo_pairs[p1,p2] += 1\n",
    "\n",
    "\n",
    "wins_amo_pairs_df = pd.DataFrame(wins_amo_pairs.values(), index=pd.MultiIndex.from_tuples(wins_amo_pairs.keys())).unstack(1)\n",
    "wins_amo_pairs_df"
   ]
  },
  {
   "cell_type": "markdown",
   "metadata": {},
   "source": []
  },
  {
   "cell_type": "markdown",
   "metadata": {},
   "source": [
    "Antal vundne spil pr makkerpar, korrigeret for antallet af spil som dette par har været makre i. (Dvs man får succesraten for den makkerparkombination)."
   ]
  },
  {
   "cell_type": "code",
   "execution_count": 32,
   "metadata": {},
   "outputs": [
    {
     "data": {
      "text/html": [
       "<div>\n",
       "<style scoped>\n",
       "    .dataframe tbody tr th:only-of-type {\n",
       "        vertical-align: middle;\n",
       "    }\n",
       "\n",
       "    .dataframe tbody tr th {\n",
       "        vertical-align: top;\n",
       "    }\n",
       "\n",
       "    .dataframe thead tr th {\n",
       "        text-align: left;\n",
       "    }\n",
       "</style>\n",
       "<table border=\"1\" class=\"dataframe\">\n",
       "  <thead>\n",
       "    <tr>\n",
       "      <th></th>\n",
       "      <th colspan=\"5\" halign=\"left\">0</th>\n",
       "    </tr>\n",
       "    <tr>\n",
       "      <th></th>\n",
       "      <th>David</th>\n",
       "      <th>Gustav</th>\n",
       "      <th>Johan</th>\n",
       "      <th>Samuel</th>\n",
       "      <th>William</th>\n",
       "    </tr>\n",
       "  </thead>\n",
       "  <tbody>\n",
       "    <tr>\n",
       "      <th>David</th>\n",
       "      <td>0.56</td>\n",
       "      <td>0.71</td>\n",
       "      <td>0.69</td>\n",
       "      <td>0.43</td>\n",
       "      <td>0.62</td>\n",
       "    </tr>\n",
       "    <tr>\n",
       "      <th>Gustav</th>\n",
       "      <td>0.71</td>\n",
       "      <td>0.54</td>\n",
       "      <td>0.59</td>\n",
       "      <td>0.56</td>\n",
       "      <td>0.50</td>\n",
       "    </tr>\n",
       "    <tr>\n",
       "      <th>Johan</th>\n",
       "      <td>0.69</td>\n",
       "      <td>0.59</td>\n",
       "      <td>0.58</td>\n",
       "      <td>0.60</td>\n",
       "      <td>0.58</td>\n",
       "    </tr>\n",
       "    <tr>\n",
       "      <th>Samuel</th>\n",
       "      <td>0.43</td>\n",
       "      <td>0.56</td>\n",
       "      <td>0.60</td>\n",
       "      <td>0.46</td>\n",
       "      <td>0.38</td>\n",
       "    </tr>\n",
       "    <tr>\n",
       "      <th>William</th>\n",
       "      <td>0.62</td>\n",
       "      <td>0.50</td>\n",
       "      <td>0.58</td>\n",
       "      <td>0.38</td>\n",
       "      <td>0.49</td>\n",
       "    </tr>\n",
       "  </tbody>\n",
       "</table>\n",
       "</div>"
      ],
      "text/plain": [
       "            0                            \n",
       "        David Gustav Johan Samuel William\n",
       "David    0.56   0.71  0.69   0.43    0.62\n",
       "Gustav   0.71   0.54  0.59   0.56    0.50\n",
       "Johan    0.69   0.59  0.58   0.60    0.58\n",
       "Samuel   0.43   0.56  0.60   0.46    0.38\n",
       "William  0.62   0.50  0.58   0.38    0.49"
      ]
     },
     "execution_count": 32,
     "metadata": {},
     "output_type": "execute_result"
    }
   ],
   "source": [
    "wins_amo_pairs_corr = pairs_temp.copy()\n",
    "\n",
    "for p1,p2 in wins_amo_pairs_corr:\n",
    "    if makre_amo_pairs[p1,p2] != 0:\n",
    "        wins_amo_pairs_corr[p1,p2] = wins_amo_pairs[p1,p2]/makre_amo_pairs[p1,p2]\n",
    "\n",
    "wins_amo_pairs_corr_df = pd.DataFrame(wins_amo_pairs_corr.values(), index=pd.MultiIndex.from_tuples(wins_amo_pairs_corr.keys())).unstack(1)\n",
    "wins_amo_pairs_corr_df.round(decimals=2)"
   ]
  },
  {
   "cell_type": "markdown",
   "metadata": {},
   "source": []
  },
  {
   "cell_type": "markdown",
   "metadata": {},
   "source": [
    "Nu vurderer vi sucessraten på samlede antal point fået sammen som makkerpar, og dermed ikke på antallet af vundne spil."
   ]
  },
  {
   "cell_type": "markdown",
   "metadata": {},
   "source": []
  },
  {
   "cell_type": "markdown",
   "metadata": {},
   "source": [
    "Sum af point fået i hver makkerparkombination."
   ]
  },
  {
   "cell_type": "code",
   "execution_count": 33,
   "metadata": {},
   "outputs": [
    {
     "data": {
      "text/html": [
       "<div>\n",
       "<style scoped>\n",
       "    .dataframe tbody tr th:only-of-type {\n",
       "        vertical-align: middle;\n",
       "    }\n",
       "\n",
       "    .dataframe tbody tr th {\n",
       "        vertical-align: top;\n",
       "    }\n",
       "\n",
       "    .dataframe thead tr th {\n",
       "        text-align: left;\n",
       "    }\n",
       "</style>\n",
       "<table border=\"1\" class=\"dataframe\">\n",
       "  <thead>\n",
       "    <tr>\n",
       "      <th></th>\n",
       "      <th colspan=\"5\" halign=\"left\">0</th>\n",
       "    </tr>\n",
       "    <tr>\n",
       "      <th></th>\n",
       "      <th>David</th>\n",
       "      <th>Gustav</th>\n",
       "      <th>Johan</th>\n",
       "      <th>Samuel</th>\n",
       "      <th>William</th>\n",
       "    </tr>\n",
       "  </thead>\n",
       "  <tbody>\n",
       "    <tr>\n",
       "      <th>David</th>\n",
       "      <td>11.60</td>\n",
       "      <td>4.90</td>\n",
       "      <td>4.60</td>\n",
       "      <td>1.95</td>\n",
       "      <td>5.45</td>\n",
       "    </tr>\n",
       "    <tr>\n",
       "      <th>Gustav</th>\n",
       "      <td>4.90</td>\n",
       "      <td>-2.37</td>\n",
       "      <td>-0.67</td>\n",
       "      <td>-0.05</td>\n",
       "      <td>-2.82</td>\n",
       "    </tr>\n",
       "    <tr>\n",
       "      <th>Johan</th>\n",
       "      <td>4.60</td>\n",
       "      <td>-0.67</td>\n",
       "      <td>2.18</td>\n",
       "      <td>-0.55</td>\n",
       "      <td>1.33</td>\n",
       "    </tr>\n",
       "    <tr>\n",
       "      <th>Samuel</th>\n",
       "      <td>1.95</td>\n",
       "      <td>-0.05</td>\n",
       "      <td>-0.55</td>\n",
       "      <td>-5.00</td>\n",
       "      <td>-5.65</td>\n",
       "    </tr>\n",
       "    <tr>\n",
       "      <th>William</th>\n",
       "      <td>5.45</td>\n",
       "      <td>-2.82</td>\n",
       "      <td>1.33</td>\n",
       "      <td>-5.65</td>\n",
       "      <td>-6.12</td>\n",
       "    </tr>\n",
       "  </tbody>\n",
       "</table>\n",
       "</div>"
      ],
      "text/plain": [
       "             0                            \n",
       "         David Gustav Johan Samuel William\n",
       "David    11.60   4.90  4.60   1.95    5.45\n",
       "Gustav    4.90  -2.37 -0.67  -0.05   -2.82\n",
       "Johan     4.60  -0.67  2.18  -0.55    1.33\n",
       "Samuel    1.95  -0.05 -0.55  -5.00   -5.65\n",
       "William   5.45  -2.82  1.33  -5.65   -6.12"
      ]
     },
     "execution_count": 33,
     "metadata": {},
     "output_type": "execute_result"
    }
   ],
   "source": [
    "points_pairs = pairs_temp.copy()\n",
    "\n",
    "for i in range(amo):\n",
    "    for p1, p2 in points_pairs:\n",
    "        points_p1 = df.iloc[i][p1]\n",
    "        points_p2 = df.iloc[i][p2]\n",
    "        if points_p1 == points_p2 and points_p1 != 0:\n",
    "            points_pairs[p1,p2] += points_p1\n",
    "                    \n",
    "\n",
    "points_pairs_df = pd.DataFrame(points_pairs.values(), index=pd.MultiIndex.from_tuples(points_pairs.keys())).unstack(1)\n",
    "points_pairs_df.round(decimals=2)\n",
    "\n"
   ]
  },
  {
   "cell_type": "markdown",
   "metadata": {},
   "source": []
  },
  {
   "cell_type": "markdown",
   "metadata": {},
   "source": [
    "Sum af point fået i hver makkerparkombination, korrigeret for antallet af spil som dette par har været makre i. (Dvs man får det gennemsnitlige antal point et makkerpar får i en runde)."
   ]
  },
  {
   "cell_type": "code",
   "execution_count": 34,
   "metadata": {},
   "outputs": [
    {
     "data": {
      "text/html": [
       "<div>\n",
       "<style scoped>\n",
       "    .dataframe tbody tr th:only-of-type {\n",
       "        vertical-align: middle;\n",
       "    }\n",
       "\n",
       "    .dataframe tbody tr th {\n",
       "        vertical-align: top;\n",
       "    }\n",
       "\n",
       "    .dataframe thead tr th {\n",
       "        text-align: left;\n",
       "    }\n",
       "</style>\n",
       "<table border=\"1\" class=\"dataframe\">\n",
       "  <thead>\n",
       "    <tr>\n",
       "      <th></th>\n",
       "      <th colspan=\"5\" halign=\"left\">0</th>\n",
       "    </tr>\n",
       "    <tr>\n",
       "      <th></th>\n",
       "      <th>David</th>\n",
       "      <th>Gustav</th>\n",
       "      <th>Johan</th>\n",
       "      <th>Samuel</th>\n",
       "      <th>William</th>\n",
       "    </tr>\n",
       "  </thead>\n",
       "  <tbody>\n",
       "    <tr>\n",
       "      <th>David</th>\n",
       "      <td>0.18</td>\n",
       "      <td>0.35</td>\n",
       "      <td>0.29</td>\n",
       "      <td>0.14</td>\n",
       "      <td>0.26</td>\n",
       "    </tr>\n",
       "    <tr>\n",
       "      <th>Gustav</th>\n",
       "      <td>0.35</td>\n",
       "      <td>-0.04</td>\n",
       "      <td>-0.03</td>\n",
       "      <td>-0.00</td>\n",
       "      <td>-0.20</td>\n",
       "    </tr>\n",
       "    <tr>\n",
       "      <th>Johan</th>\n",
       "      <td>0.29</td>\n",
       "      <td>-0.03</td>\n",
       "      <td>0.05</td>\n",
       "      <td>-0.05</td>\n",
       "      <td>0.11</td>\n",
       "    </tr>\n",
       "    <tr>\n",
       "      <th>Samuel</th>\n",
       "      <td>0.14</td>\n",
       "      <td>-0.00</td>\n",
       "      <td>-0.05</td>\n",
       "      <td>-0.10</td>\n",
       "      <td>-0.43</td>\n",
       "    </tr>\n",
       "    <tr>\n",
       "      <th>William</th>\n",
       "      <td>0.26</td>\n",
       "      <td>-0.20</td>\n",
       "      <td>0.11</td>\n",
       "      <td>-0.43</td>\n",
       "      <td>-0.12</td>\n",
       "    </tr>\n",
       "  </tbody>\n",
       "</table>\n",
       "</div>"
      ],
      "text/plain": [
       "            0                            \n",
       "        David Gustav Johan Samuel William\n",
       "David    0.18   0.35  0.29   0.14    0.26\n",
       "Gustav   0.35  -0.04 -0.03  -0.00   -0.20\n",
       "Johan    0.29  -0.03  0.05  -0.05    0.11\n",
       "Samuel   0.14  -0.00 -0.05  -0.10   -0.43\n",
       "William  0.26  -0.20  0.11  -0.43   -0.12"
      ]
     },
     "execution_count": 34,
     "metadata": {},
     "output_type": "execute_result"
    }
   ],
   "source": [
    "points_pairs_corr = pairs_temp.copy()\n",
    "\n",
    "for p1,p2 in points_pairs_corr:\n",
    "    if makre_amo_pairs[p1,p2] != 0:\n",
    "        points_pairs_corr[p1,p2] = points_pairs[p1,p2]/makre_amo_pairs[p1,p2]\n",
    "\n",
    "points_pairs_corr_df = pd.DataFrame(points_pairs_corr.values(), index=pd.MultiIndex.from_tuples(points_pairs_corr.keys())).unstack(1)\n",
    "points_pairs_corr_df.round(decimals=2)"
   ]
  },
  {
   "cell_type": "markdown",
   "metadata": {},
   "source": [
    "# Idéer til statistikker"
   ]
  },
  {
   "cell_type": "markdown",
   "metadata": {},
   "source": [
    "Statistik pr personn:\n",
    "- Højeste winning streak\n",
    "- Medianscore\n",
    "- Hyppigste melding pr person\n",
    "- Hvem vandt relativt flest spil, hvor de fik flere stik end meldt\n",
    "- Antal spil spillet\n",
    "- Antal/procent spil tabt/vundet\n",
    "\n",
    "Statistik pr makkerpar:\n",
    "- Den bedste kombination af makkerpar ifht antal vundene spil, pointscore\n",
    "- Den mest hyppige kombi af makkerpar (påvis/debunk the Gutsab-Scmulduo)\n"
   ]
  }
 ],
 "metadata": {
  "interpreter": {
   "hash": "88f8aa9a882d917c46e3304969127c814405ab61640d5a2cf4bb2964abb99d3c"
  },
  "kernelspec": {
   "display_name": "Python 3.10.2 ('bike_env')",
   "language": "python",
   "name": "python3"
  },
  "language_info": {
   "codemirror_mode": {
    "name": "ipython",
    "version": 3
   },
   "file_extension": ".py",
   "mimetype": "text/x-python",
   "name": "python",
   "nbconvert_exporter": "python",
   "pygments_lexer": "ipython3",
   "version": "3.10.2"
  },
  "orig_nbformat": 4
 },
 "nbformat": 4,
 "nbformat_minor": 2
}
