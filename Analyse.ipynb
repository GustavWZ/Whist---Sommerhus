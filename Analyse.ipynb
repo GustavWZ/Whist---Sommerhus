{
 "cells": [
  {
   "cell_type": "markdown",
   "metadata": {},
   "source": [
    "# Package Import"
   ]
  },
  {
   "cell_type": "code",
   "execution_count": 1,
   "metadata": {},
   "outputs": [],
   "source": [
    "import numpy as np\n",
    "import pandas as pd\n",
    "import matplotlib.pyplot as plt"
   ]
  },
  {
   "cell_type": "markdown",
   "metadata": {},
   "source": [
    "# Data Import"
   ]
  },
  {
   "cell_type": "code",
   "execution_count": 2,
   "metadata": {},
   "outputs": [],
   "source": [
    "df = pd.read_csv(\"Sommerhus22/Sommerhus22_data.csv\", sep=\";\")"
   ]
  },
  {
   "cell_type": "markdown",
   "metadata": {},
   "source": [
    "## Datasortering/Forberedelse"
   ]
  },
  {
   "cell_type": "code",
   "execution_count": 3,
   "metadata": {},
   "outputs": [],
   "source": [
    "amo = len(df)\n",
    "\n",
    "\n",
    "def counter(arr,count_check):\n",
    "    \"\"\"\n",
    "    En funktion der tæller hvor mange gange et bestemt element (count_check) \n",
    "    forekommer i et array (arr).\n",
    "    \"\"\"\n",
    "    count_amo = 0\n",
    "    for i in range(len(arr)):\n",
    "        if arr[i] == count_check:\n",
    "            count_amo += 1\n",
    "    \n",
    "    return count_amo"
   ]
  },
  {
   "cell_type": "markdown",
   "metadata": {},
   "source": [
    "Laver en dictionary-template som indeholder alle spillere."
   ]
  },
  {
   "cell_type": "code",
   "execution_count": 4,
   "metadata": {},
   "outputs": [],
   "source": [
    "dict_temp = {}\n",
    "for person in df:\n",
    "    if person!=\"Melding\":\n",
    "        dict_temp[person] = 0\n"
   ]
  },
  {
   "cell_type": "markdown",
   "metadata": {},
   "source": [
    "Arrays der indeholder antal spil spillet pr person:"
   ]
  },
  {
   "cell_type": "code",
   "execution_count": 5,
   "metadata": {},
   "outputs": [
    {
     "data": {
      "text/plain": [
       "{'David': 74,\n",
       " 'William': 61,\n",
       " 'Sofus': 11,\n",
       " 'Gustav': 79,\n",
       " 'Johan': 48,\n",
       " 'Samuel': 53,\n",
       " 'Maria': 9}"
      ]
     },
     "execution_count": 5,
     "metadata": {},
     "output_type": "execute_result"
    }
   ],
   "source": [
    "game_amo_pp = dict_temp.copy()\n",
    "\n",
    "for person in game_amo_pp:\n",
    "    game_amo_pp[person] = amo - counter(df[person],0)\n",
    "\n",
    "game_amo_pp\n"
   ]
  },
  {
   "cell_type": "markdown",
   "metadata": {},
   "source": [
    "Dictionaries der kun indeholder spil som hver enkelte person har deltaget i"
   ]
  },
  {
   "cell_type": "code",
   "execution_count": 6,
   "metadata": {},
   "outputs": [],
   "source": [
    "gamedata_clean = dict_temp.copy()\n",
    "\n",
    "for person in gamedata_clean:\n",
    "    gamedata_clean[person] = df[person].loc[df[person]!=0]"
   ]
  },
  {
   "cell_type": "markdown",
   "metadata": {},
   "source": [
    "# Statisikker"
   ]
  },
  {
   "cell_type": "markdown",
   "metadata": {},
   "source": [
    "### Winning Streaks"
   ]
  },
  {
   "cell_type": "code",
   "execution_count": 7,
   "metadata": {},
   "outputs": [],
   "source": [
    "def win_str_count(df):\n",
    "    \"\"\"\n",
    "    En funktion der tæller hvor mange antal spil en given person har vundet i træk\n",
    "    \"\"\"\n",
    "\n",
    "    max_win = 0\n",
    "    count = 0\n",
    "\n",
    "    for game_score in df:\n",
    "        if game_score > 0:\n",
    "            count += 1\n",
    "        else:\n",
    "            max_win = max(max_win,count)\n",
    "            count = 0\n",
    "    \n",
    "    max_win = max(max_win,count)\n",
    "\n",
    "    return max_win"
   ]
  },
  {
   "cell_type": "markdown",
   "metadata": {},
   "source": [
    "Højeste winningstreak taget forbehold pauser mellem spil (dvs forekommer der spil hvor man ikke har deltaget, så resettes streaken)"
   ]
  },
  {
   "cell_type": "code",
   "execution_count": 8,
   "metadata": {},
   "outputs": [
    {
     "data": {
      "text/plain": [
       "{'David': 7,\n",
       " 'William': 9,\n",
       " 'Sofus': 2,\n",
       " 'Gustav': 5,\n",
       " 'Johan': 4,\n",
       " 'Samuel': 3,\n",
       " 'Maria': 1}"
      ]
     },
     "execution_count": 8,
     "metadata": {},
     "output_type": "execute_result"
    }
   ],
   "source": [
    "dict_winstr_nop = dict_temp.copy()\n",
    "\n",
    "for person in dict_winstr_nop:\n",
    "    dict_winstr_nop[person] = win_str_count(df[person])\n",
    "\n",
    "dict_winstr_nop"
   ]
  },
  {
   "cell_type": "markdown",
   "metadata": {},
   "source": [
    "Højeste winningstreak uden forbehold for pauser mellem spil (Nu ignorerers pauser mellem spil, dvs hvis man vinder et spil, sider over et par spil, og så vinder næste gang man spiller igen, så fortsætter streaken)."
   ]
  },
  {
   "cell_type": "code",
   "execution_count": 9,
   "metadata": {},
   "outputs": [
    {
     "data": {
      "text/plain": [
       "{'David': 7,\n",
       " 'William': 9,\n",
       " 'Sofus': 2,\n",
       " 'Gustav': 5,\n",
       " 'Johan': 4,\n",
       " 'Samuel': 3,\n",
       " 'Maria': 2}"
      ]
     },
     "execution_count": 9,
     "metadata": {},
     "output_type": "execute_result"
    }
   ],
   "source": [
    "dict_winstr_incp = dict_temp.copy()\n",
    "\n",
    "for person in dict_winstr_incp:\n",
    "    dict_winstr_incp[person] = win_str_count(gamedata_clean[person])\n",
    "\n",
    "dict_winstr_incp"
   ]
  },
  {
   "cell_type": "markdown",
   "metadata": {},
   "source": [
    "### Summarystatistikker over Point"
   ]
  },
  {
   "cell_type": "code",
   "execution_count": 10,
   "metadata": {},
   "outputs": [],
   "source": [
    "avg = dict_temp.copy()\n",
    "medians = dict_temp.copy()\n",
    "stds = dict_temp.copy()\n",
    "mins = dict_temp.copy()\n",
    "maxs = dict_temp.copy()\n",
    "\n",
    "for person in gamedata_clean:\n",
    "    medians[person] = np.median(gamedata_clean[person])\n",
    "    avg[person] = np.average(gamedata_clean[person])\n",
    "    stds[person] = np.std(gamedata_clean[person])\n",
    "    mins[person] = np.min(gamedata_clean[person])\n",
    "    maxs[person] = np.max(gamedata_clean[person])"
   ]
  },
  {
   "cell_type": "markdown",
   "metadata": {},
   "source": [
    "Gennemsnitscore"
   ]
  },
  {
   "cell_type": "code",
   "execution_count": 11,
   "metadata": {},
   "outputs": [
    {
     "data": {
      "text/plain": [
       "{'David': 0.11851351351351354,\n",
       " 'William': -0.11999999999999997,\n",
       " 'Sofus': 0.08181818181818185,\n",
       " 'Gustav': 0.003797468354430369,\n",
       " 'Johan': 0.04541666666666669,\n",
       " 'Samuel': -0.10754716981132076,\n",
       " 'Maria': 0.13}"
      ]
     },
     "execution_count": 11,
     "metadata": {},
     "output_type": "execute_result"
    }
   ],
   "source": [
    "avg"
   ]
  },
  {
   "cell_type": "markdown",
   "metadata": {},
   "source": [
    "Medianscore"
   ]
  },
  {
   "cell_type": "code",
   "execution_count": 12,
   "metadata": {},
   "outputs": [
    {
     "data": {
      "text/plain": [
       "{'David': 0.15000000000000002,\n",
       " 'William': -0.1,\n",
       " 'Sofus': -0.1,\n",
       " 'Gustav': 0.2,\n",
       " 'Johan': 0.2,\n",
       " 'Samuel': -0.2,\n",
       " 'Maria': -0.1}"
      ]
     },
     "execution_count": 12,
     "metadata": {},
     "output_type": "execute_result"
    }
   ],
   "source": [
    "medians"
   ]
  },
  {
   "cell_type": "markdown",
   "metadata": {},
   "source": [
    "Spredning af point"
   ]
  },
  {
   "cell_type": "code",
   "execution_count": 13,
   "metadata": {},
   "outputs": [
    {
     "data": {
      "text/plain": [
       "{'David': 0.9405614804285969,\n",
       " 'William': 1.0632844259612775,\n",
       " 'Sofus': 0.6965084112501074,\n",
       " 'Gustav': 0.9635355567427261,\n",
       " 'Johan': 0.9873089653475023,\n",
       " 'Samuel': 0.9252942533714228,\n",
       " 'Maria': 0.6901529621113794}"
      ]
     },
     "execution_count": 13,
     "metadata": {},
     "output_type": "execute_result"
    }
   ],
   "source": [
    "stds"
   ]
  },
  {
   "cell_type": "markdown",
   "metadata": {},
   "source": [
    "Laveste score"
   ]
  },
  {
   "cell_type": "code",
   "execution_count": 14,
   "metadata": {},
   "outputs": [
    {
     "data": {
      "text/plain": [
       "{'David': -1.6,\n",
       " 'William': -3.0,\n",
       " 'Sofus': -1.0,\n",
       " 'Gustav': -3.2,\n",
       " 'Johan': -3.2,\n",
       " 'Samuel': -2.4,\n",
       " 'Maria': -0.8}"
      ]
     },
     "execution_count": 14,
     "metadata": {},
     "output_type": "execute_result"
    }
   ],
   "source": [
    "mins"
   ]
  },
  {
   "cell_type": "markdown",
   "metadata": {},
   "source": [
    "Højeste score"
   ]
  },
  {
   "cell_type": "code",
   "execution_count": 15,
   "metadata": {},
   "outputs": [
    {
     "data": {
      "text/plain": [
       "{'David': 3.2,\n",
       " 'William': 3.2,\n",
       " 'Sofus': 1.0,\n",
       " 'Gustav': 2.4,\n",
       " 'Johan': 2.4,\n",
       " 'Samuel': 2.7,\n",
       " 'Maria': 1.2}"
      ]
     },
     "execution_count": 15,
     "metadata": {},
     "output_type": "execute_result"
    }
   ],
   "source": [
    "maxs"
   ]
  },
  {
   "cell_type": "markdown",
   "metadata": {},
   "source": [
    "Boxplots"
   ]
  },
  {
   "cell_type": "code",
   "execution_count": 16,
   "metadata": {},
   "outputs": [
    {
     "data": {
      "image/png": "[encoded data removed]",
      "text/plain": [
       "<Figure size 576x432 with 1 Axes>"
      ]
     },
     "metadata": {
      "needs_background": "light"
     },
     "output_type": "display_data"
    }
   ],
   "source": [
    "fig = plt.figure(figsize=(8,6))\n",
    "ax = fig.add_axes([0,0,1,1])\n",
    "ax.boxplot(gamedata_clean.values())\n",
    "ax.set_xticklabels(gamedata_clean.keys())\n",
    "plt.grid()\n",
    "plt.show()"
   ]
  },
  {
   "cell_type": "code",
   "execution_count": 67,
   "metadata": {},
   "outputs": [
    {
     "data": {
      "text/html": [
       "<div>\n",
       "<style scoped>\n",
       "    .dataframe tbody tr th:only-of-type {\n",
       "        vertical-align: middle;\n",
       "    }\n",
       "\n",
       "    .dataframe tbody tr th {\n",
       "        vertical-align: top;\n",
       "    }\n",
       "\n",
       "    .dataframe thead th {\n",
       "        text-align: right;\n",
       "    }\n",
       "</style>\n",
       "<table border=\"1\" class=\"dataframe\">\n",
       "  <thead>\n",
       "    <tr style=\"text-align: right;\">\n",
       "      <th></th>\n",
       "      <th>Melding</th>\n",
       "      <th>Resultat</th>\n",
       "    </tr>\n",
       "  </thead>\n",
       "  <tbody>\n",
       "    <tr>\n",
       "      <th>0</th>\n",
       "      <td>9g</td>\n",
       "      <td>-3</td>\n",
       "    </tr>\n",
       "    <tr>\n",
       "      <th>1</th>\n",
       "      <td>9v3</td>\n",
       "      <td>1</td>\n",
       "    </tr>\n",
       "    <tr>\n",
       "      <th>2</th>\n",
       "      <td>Rsol</td>\n",
       "      <td>1</td>\n",
       "    </tr>\n",
       "    <tr>\n",
       "      <th>3</th>\n",
       "      <td>10</td>\n",
       "      <td>-1</td>\n",
       "    </tr>\n",
       "    <tr>\n",
       "      <th>4</th>\n",
       "      <td>Rsol</td>\n",
       "      <td>1</td>\n",
       "    </tr>\n",
       "    <tr>\n",
       "      <th>...</th>\n",
       "      <td>...</td>\n",
       "      <td>...</td>\n",
       "    </tr>\n",
       "    <tr>\n",
       "      <th>79</th>\n",
       "      <td>9h</td>\n",
       "      <td>1</td>\n",
       "    </tr>\n",
       "    <tr>\n",
       "      <th>80</th>\n",
       "      <td>9g</td>\n",
       "      <td>2</td>\n",
       "    </tr>\n",
       "    <tr>\n",
       "      <th>81</th>\n",
       "      <td>9g</td>\n",
       "      <td>2</td>\n",
       "    </tr>\n",
       "    <tr>\n",
       "      <th>82</th>\n",
       "      <td>9g</td>\n",
       "      <td>2</td>\n",
       "    </tr>\n",
       "    <tr>\n",
       "      <th>83</th>\n",
       "      <td>9h</td>\n",
       "      <td>4</td>\n",
       "    </tr>\n",
       "  </tbody>\n",
       "</table>\n",
       "<p>84 rows × 2 columns</p>\n",
       "</div>"
      ],
      "text/plain": [
       "   Melding Resultat\n",
       "0       9g       -3\n",
       "1      9v3        1\n",
       "2     Rsol        1\n",
       "3       10       -1\n",
       "4     Rsol        1\n",
       "..     ...      ...\n",
       "79      9h        1\n",
       "80      9g        2\n",
       "81      9g        2\n",
       "82      9g        2\n",
       "83      9h        4\n",
       "\n",
       "[84 rows x 2 columns]"
      ]
     },
     "execution_count": 67,
     "metadata": {},
     "output_type": "execute_result"
    }
   ],
   "source": [
    "def melding_format(df):\n",
    "    \"\"\"\n",
    "    Returnerer et array som sorterer meldingerne ind i to arrays:\n",
    "    En som indholder meldingen, og et andet som indeholder udfaldet af spillet.\n",
    "    Fx hvis man i første indgang har \"9g\" og i den anden \"-2\", betyder det man har meldt\n",
    "    9 gode, og efterfølgende har tabt med 2 stik.\n",
    "\n",
    "    OBS: Ved hhv Sol og Ren sol indikerer 1 og -1 om spilleren der har meldt sol enten vandt\n",
    "    eller tabte meldingen.\n",
    "    \n",
    "    \"\"\"\n",
    "\n",
    "    arr = df[\"Melding\"]\n",
    "\n",
    "    mel1 = np.zeros_like(arr)\n",
    "    mel2 = np.zeros_like(arr)\n",
    "\n",
    "    count = 0\n",
    "\n",
    "    for melding in arr:\n",
    "        mel_split = melding.split(\",\")\n",
    "\n",
    "        mel1[count] = mel_split[0]\n",
    "\n",
    "        if len(mel_split) > 1:\n",
    "            if mel_split[1][-1] == \"o\":\n",
    "                mel2[count] = int(mel_split[1][-2])\n",
    "            elif mel_split[1][-1] == \"u\":\n",
    "                mel2[count] = -int(mel_split[1][-2])\n",
    "        \n",
    "        else:\n",
    "            if (df.iloc[count][1:] > 0).sum() == 3:\n",
    "                mel2[count] = -1\n",
    "            else:\n",
    "                mel2[count] = 1\n",
    "\n",
    "        count += 1\n",
    "    \n",
    "    d = {'Melding': mel1, 'Resultat': mel2}\n",
    "\n",
    "    return pd.DataFrame(data=d)"
   ]
  },
  {
   "cell_type": "code",
   "execution_count": 63,
   "metadata": {},
   "outputs": [
    {
     "data": {
      "text/plain": [
       "2"
      ]
     },
     "execution_count": 63,
     "metadata": {},
     "output_type": "execute_result"
    }
   ],
   "source": [
    "bob = df.iloc[1][1:]\n",
    "\n",
    "\n",
    "(df.iloc[1][1:] > 0).sum()"
   ]
  },
  {
   "cell_type": "markdown",
   "metadata": {},
   "source": [
    "# Idéer til statistikker"
   ]
  },
  {
   "cell_type": "markdown",
   "metadata": {},
   "source": [
    "Statistik pr personn:\n",
    "- Højeste winning streak\n",
    "- Medianscore\n",
    "- Gennemsnitlig højeste melding\n",
    "- Antal spil spillet\n",
    "- Antal/procent spil tabt/vundet\n",
    "- Hvem vandt relativt flest spil, hvor de fik flere stik end meldt\n",
    "\n",
    "Statistik pr makkerpar:\n",
    "- Den bedste kombination af makkerpar ifht antal vundene spil, pointscore\n",
    "- Den mest hyppige kombi af makkerpar (påvis/debunk the Gutsab-Scmulduo)\n"
   ]
  }
 ],
 "metadata": {
  "interpreter": {
   "hash": "88f8aa9a882d917c46e3304969127c814405ab61640d5a2cf4bb2964abb99d3c"
  },
  "kernelspec": {
   "display_name": "Python 3.10.2 ('bike_env')",
   "language": "python",
   "name": "python3"
  },
  "language_info": {
   "codemirror_mode": {
    "name": "ipython",
    "version": 3
   },
   "file_extension": ".py",
   "mimetype": "text/x-python",
   "name": "python",
   "nbconvert_exporter": "python",
   "pygments_lexer": "ipython3",
   "version": "3.10.2"
  },
  "orig_nbformat": 4
 },
 "nbformat": 4,
 "nbformat_minor": 2
}
