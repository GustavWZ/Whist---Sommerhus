{
 "cells": [
  {
   "cell_type": "markdown",
   "metadata": {},
   "source": [
    "# Package Import"
   ]
  },
  {
   "cell_type": "code",
   "execution_count": 1,
   "metadata": {},
   "outputs": [],
   "source": [
    "import numpy as np\n",
    "import pandas as pd\n",
    "import matplotlib.pyplot as plt\n",
    "import collections"
   ]
  },
  {
   "cell_type": "markdown",
   "metadata": {},
   "source": [
    "# Data Import"
   ]
  },
  {
   "cell_type": "code",
   "execution_count": 2,
   "metadata": {},
   "outputs": [],
   "source": [
    "df = pd.read_csv(\"Sommerhus22/Sommerhus22_data.csv\", sep=\";\")"
   ]
  },
  {
   "cell_type": "markdown",
   "metadata": {},
   "source": [
    "## Datasortering/Forberedelse"
   ]
  },
  {
   "cell_type": "code",
   "execution_count": 3,
   "metadata": {},
   "outputs": [],
   "source": [
    "amo = len(df)\n",
    "\n",
    "\n",
    "def counter(arr,count_check):\n",
    "    \"\"\"\n",
    "    En funktion der tæller hvor mange gange et bestemt element (count_check) \n",
    "    forekommer i et array (arr).\n",
    "    \"\"\"\n",
    "    count_amo = 0\n",
    "    for i in range(len(arr)):\n",
    "        if arr[i] == count_check:\n",
    "            count_amo += 1\n",
    "    \n",
    "    return count_amo\n",
    "\n",
    "\n",
    "def melding_format(df):\n",
    "    \"\"\"\n",
    "    Returnerer et array som sorterer meldingerne ind i to arrays:\n",
    "    En som indholder meldingen, og en som indeholder udfaldet af meldingen.\n",
    "\n",
    "    Fx hvis man i første indgang har \"9g\" og i den anden \"-2\", betyder det man har meldt\n",
    "    9 gode, og efterfølgende tabte med 2 stik.\n",
    "\n",
    "    OBS: Ved hhv Sol og Ren sol indikerer 0.1 og -0.1 (numerisk værdi valgt af praktiske årsager) \n",
    "    om spilleren med den givne melding enten vandt eller tabte runden.\n",
    "    \n",
    "    \"\"\"\n",
    "\n",
    "    arr = df[\"Melding\"]\n",
    "\n",
    "    mel1 = np.zeros_like(arr)\n",
    "    mel2 = np.zeros_like(arr)\n",
    "\n",
    "    count = 0\n",
    "\n",
    "    for melding in arr:\n",
    "        mel_split = melding.split(\",\")\n",
    "\n",
    "        mel1[count] = mel_split[0]\n",
    "\n",
    "        if len(mel_split) > 1:\n",
    "            if mel_split[1][-1] == \"o\":\n",
    "                mel2[count] = int(mel_split[1][-2])\n",
    "            elif mel_split[1][-1] == \"u\":\n",
    "                mel2[count] = -int(mel_split[1][-2])\n",
    "        \n",
    "        elif mel1[count] == \"Sol\" or mel1[count] == \"Rsol\":\n",
    "            if (df.iloc[count][1:] > 0).sum() == 3:\n",
    "                mel2[count] = -0.1\n",
    "            else:\n",
    "                mel2[count] = 0.1\n",
    "\n",
    "        count += 1\n",
    "\n",
    "    return {'Melding': mel1, 'Resultat': mel2}\n"
   ]
  },
  {
   "cell_type": "markdown",
   "metadata": {},
   "source": [
    "Laver en dictionary-template som indeholder alle spillere."
   ]
  },
  {
   "cell_type": "code",
   "execution_count": 4,
   "metadata": {},
   "outputs": [],
   "source": [
    "dict_temp = {}\n",
    "for person in df:\n",
    "    if person!=\"Melding\":\n",
    "        dict_temp[person] = 0\n"
   ]
  },
  {
   "cell_type": "markdown",
   "metadata": {},
   "source": []
  },
  {
   "cell_type": "markdown",
   "metadata": {},
   "source": [
    "Arrays der indeholder antal spil spillet pr person:"
   ]
  },
  {
   "cell_type": "code",
   "execution_count": 5,
   "metadata": {},
   "outputs": [
    {
     "data": {
      "text/plain": [
       "{'David': 74,\n",
       " 'William': 61,\n",
       " 'Sofus': 11,\n",
       " 'Gustav': 79,\n",
       " 'Johan': 48,\n",
       " 'Samuel': 53,\n",
       " 'Maria': 9}"
      ]
     },
     "execution_count": 5,
     "metadata": {},
     "output_type": "execute_result"
    }
   ],
   "source": [
    "game_amo_pp = dict_temp.copy()\n",
    "\n",
    "for person in game_amo_pp:\n",
    "    game_amo_pp[person] = amo - counter(df[person],0)\n",
    "\n",
    "game_amo_pp\n"
   ]
  },
  {
   "cell_type": "markdown",
   "metadata": {},
   "source": []
  },
  {
   "cell_type": "markdown",
   "metadata": {},
   "source": [
    "Dictionaries der kun indeholder spil som hver enkelte person har deltaget i"
   ]
  },
  {
   "cell_type": "code",
   "execution_count": 6,
   "metadata": {},
   "outputs": [],
   "source": [
    "gamedata_clean = dict_temp.copy()\n",
    "\n",
    "for person in gamedata_clean:\n",
    "    gamedata_clean[person] = df[person].loc[df[person]!=0]"
   ]
  },
  {
   "cell_type": "markdown",
   "metadata": {},
   "source": [
    "# Statisikker"
   ]
  },
  {
   "cell_type": "markdown",
   "metadata": {},
   "source": [
    "### Winning Streaks"
   ]
  },
  {
   "cell_type": "code",
   "execution_count": 7,
   "metadata": {},
   "outputs": [],
   "source": [
    "def win_str_count(df):\n",
    "    \"\"\"\n",
    "    En funktion der tæller hvor mange antal spil en given person har vundet i træk\n",
    "    \"\"\"\n",
    "\n",
    "    max_win = 0\n",
    "    count = 0\n",
    "\n",
    "    for game_score in df:\n",
    "        if game_score > 0:\n",
    "            count += 1\n",
    "        else:\n",
    "            max_win = max(max_win,count)\n",
    "            count = 0\n",
    "    \n",
    "    max_win = max(max_win,count)\n",
    "\n",
    "    return max_win"
   ]
  },
  {
   "cell_type": "markdown",
   "metadata": {},
   "source": [
    "Højeste winningstreak taget forbehold pauser mellem spil (dvs forekommer der spil hvor man ikke har deltaget, så resettes streaken)"
   ]
  },
  {
   "cell_type": "code",
   "execution_count": 8,
   "metadata": {},
   "outputs": [
    {
     "data": {
      "text/plain": [
       "{'David': 7,\n",
       " 'William': 9,\n",
       " 'Sofus': 2,\n",
       " 'Gustav': 5,\n",
       " 'Johan': 4,\n",
       " 'Samuel': 3,\n",
       " 'Maria': 1}"
      ]
     },
     "execution_count": 8,
     "metadata": {},
     "output_type": "execute_result"
    }
   ],
   "source": [
    "dict_winstr_nop = dict_temp.copy()\n",
    "\n",
    "for person in dict_winstr_nop:\n",
    "    dict_winstr_nop[person] = win_str_count(df[person])\n",
    "\n",
    "dict_winstr_nop"
   ]
  },
  {
   "cell_type": "markdown",
   "metadata": {},
   "source": [
    "Højeste winningstreak uden forbehold for pauser mellem spil (Nu ignorerers pauser mellem spil, dvs hvis man vinder et spil, sider over et par spil, og så vinder næste gang man spiller igen, så fortsætter streaken)."
   ]
  },
  {
   "cell_type": "code",
   "execution_count": 9,
   "metadata": {},
   "outputs": [
    {
     "data": {
      "text/plain": [
       "{'David': 7,\n",
       " 'William': 9,\n",
       " 'Sofus': 2,\n",
       " 'Gustav': 5,\n",
       " 'Johan': 4,\n",
       " 'Samuel': 3,\n",
       " 'Maria': 2}"
      ]
     },
     "execution_count": 9,
     "metadata": {},
     "output_type": "execute_result"
    }
   ],
   "source": [
    "dict_winstr_incp = dict_temp.copy()\n",
    "\n",
    "for person in dict_winstr_incp:\n",
    "    dict_winstr_incp[person] = win_str_count(gamedata_clean[person])\n",
    "\n",
    "dict_winstr_incp"
   ]
  },
  {
   "cell_type": "markdown",
   "metadata": {},
   "source": [
    "### Statistikker over Point"
   ]
  },
  {
   "cell_type": "code",
   "execution_count": 10,
   "metadata": {},
   "outputs": [],
   "source": [
    "avg = dict_temp.copy()\n",
    "medians = dict_temp.copy()\n",
    "stds = dict_temp.copy()\n",
    "mins = dict_temp.copy()\n",
    "maxs = dict_temp.copy()\n",
    "\n",
    "for person in gamedata_clean:\n",
    "    medians[person] = np.median(gamedata_clean[person])\n",
    "    avg[person] = np.average(gamedata_clean[person])\n",
    "    stds[person] = np.std(gamedata_clean[person])\n",
    "    mins[person] = np.min(gamedata_clean[person])\n",
    "    maxs[person] = np.max(gamedata_clean[person])"
   ]
  },
  {
   "cell_type": "markdown",
   "metadata": {},
   "source": [
    "Gennemsnitscore"
   ]
  },
  {
   "cell_type": "code",
   "execution_count": 11,
   "metadata": {},
   "outputs": [
    {
     "data": {
      "text/plain": [
       "{'David': 0.11851351351351354,\n",
       " 'William': -0.11999999999999997,\n",
       " 'Sofus': 0.08181818181818185,\n",
       " 'Gustav': 0.003797468354430369,\n",
       " 'Johan': 0.04541666666666669,\n",
       " 'Samuel': -0.10754716981132076,\n",
       " 'Maria': 0.13}"
      ]
     },
     "execution_count": 11,
     "metadata": {},
     "output_type": "execute_result"
    }
   ],
   "source": [
    "avg"
   ]
  },
  {
   "cell_type": "markdown",
   "metadata": {},
   "source": [
    "Medianscore"
   ]
  },
  {
   "cell_type": "code",
   "execution_count": 12,
   "metadata": {},
   "outputs": [
    {
     "data": {
      "text/plain": [
       "{'David': 0.15000000000000002,\n",
       " 'William': -0.1,\n",
       " 'Sofus': -0.1,\n",
       " 'Gustav': 0.2,\n",
       " 'Johan': 0.2,\n",
       " 'Samuel': -0.2,\n",
       " 'Maria': -0.1}"
      ]
     },
     "execution_count": 12,
     "metadata": {},
     "output_type": "execute_result"
    }
   ],
   "source": [
    "medians"
   ]
  },
  {
   "cell_type": "markdown",
   "metadata": {},
   "source": [
    "Spredning af point"
   ]
  },
  {
   "cell_type": "code",
   "execution_count": 13,
   "metadata": {},
   "outputs": [
    {
     "data": {
      "text/plain": [
       "{'David': 0.9405614804285969,\n",
       " 'William': 1.0632844259612775,\n",
       " 'Sofus': 0.6965084112501074,\n",
       " 'Gustav': 0.9635355567427261,\n",
       " 'Johan': 0.9873089653475023,\n",
       " 'Samuel': 0.9252942533714228,\n",
       " 'Maria': 0.6901529621113794}"
      ]
     },
     "execution_count": 13,
     "metadata": {},
     "output_type": "execute_result"
    }
   ],
   "source": [
    "stds"
   ]
  },
  {
   "cell_type": "markdown",
   "metadata": {},
   "source": [
    "Laveste score"
   ]
  },
  {
   "cell_type": "code",
   "execution_count": 14,
   "metadata": {},
   "outputs": [
    {
     "data": {
      "text/plain": [
       "{'David': -1.6,\n",
       " 'William': -3.0,\n",
       " 'Sofus': -1.0,\n",
       " 'Gustav': -3.2,\n",
       " 'Johan': -3.2,\n",
       " 'Samuel': -2.4,\n",
       " 'Maria': -0.8}"
      ]
     },
     "execution_count": 14,
     "metadata": {},
     "output_type": "execute_result"
    }
   ],
   "source": [
    "mins"
   ]
  },
  {
   "cell_type": "markdown",
   "metadata": {},
   "source": [
    "Højeste score"
   ]
  },
  {
   "cell_type": "code",
   "execution_count": 15,
   "metadata": {},
   "outputs": [
    {
     "data": {
      "text/plain": [
       "{'David': 3.2,\n",
       " 'William': 3.2,\n",
       " 'Sofus': 1.0,\n",
       " 'Gustav': 2.4,\n",
       " 'Johan': 2.4,\n",
       " 'Samuel': 2.7,\n",
       " 'Maria': 1.2}"
      ]
     },
     "execution_count": 15,
     "metadata": {},
     "output_type": "execute_result"
    }
   ],
   "source": [
    "maxs"
   ]
  },
  {
   "cell_type": "markdown",
   "metadata": {},
   "source": [
    "Boxplots"
   ]
  },
  {
   "cell_type": "code",
   "execution_count": 16,
   "metadata": {},
   "outputs": [
    {
     "data": {
      "image/png": "[encoded data removed]",
      "text/plain": [
       "<Figure size 576x432 with 1 Axes>"
      ]
     },
     "metadata": {
      "needs_background": "light"
     },
     "output_type": "display_data"
    }
   ],
   "source": [
    "fig = plt.figure(figsize=(8,6))\n",
    "ax = fig.add_axes([0,0,1,1])\n",
    "ax.boxplot(gamedata_clean.values())\n",
    "ax.set_xticklabels(gamedata_clean.keys())\n",
    "plt.grid()\n",
    "plt.show()"
   ]
  },
  {
   "cell_type": "markdown",
   "metadata": {},
   "source": [
    "Antal vundne spil pr person"
   ]
  },
  {
   "cell_type": "code",
   "execution_count": 17,
   "metadata": {},
   "outputs": [
    {
     "data": {
      "text/plain": [
       "{'David': 38,\n",
       " 'William': 29,\n",
       " 'Sofus': 5,\n",
       " 'Gustav': 44,\n",
       " 'Johan': 28,\n",
       " 'Samuel': 24,\n",
       " 'Maria': 4}"
      ]
     },
     "execution_count": 17,
     "metadata": {},
     "output_type": "execute_result"
    }
   ],
   "source": [
    "wins_tot = dict_temp.copy()\n",
    "loss_tot = dict_temp.copy()\n",
    "wins_tot_rel  = dict_temp.copy()\n",
    "\n",
    "for person in wins_tot:\n",
    "    wins_tot[person] = (gamedata_clean[person] > 0).sum()\n",
    "    loss_tot[person] = (gamedata_clean[person] < 0).sum()\n",
    "    wins_tot_rel[person] = wins_tot[person]/game_amo_pp[person]\n",
    "\n",
    "wins_tot"
   ]
  },
  {
   "cell_type": "markdown",
   "metadata": {},
   "source": [
    "Antal tabte spil pr person"
   ]
  },
  {
   "cell_type": "code",
   "execution_count": 18,
   "metadata": {},
   "outputs": [
    {
     "data": {
      "text/plain": [
       "{'David': 36,\n",
       " 'William': 32,\n",
       " 'Sofus': 6,\n",
       " 'Gustav': 35,\n",
       " 'Johan': 20,\n",
       " 'Samuel': 29,\n",
       " 'Maria': 5}"
      ]
     },
     "execution_count": 18,
     "metadata": {},
     "output_type": "execute_result"
    }
   ],
   "source": [
    "loss_tot"
   ]
  },
  {
   "cell_type": "markdown",
   "metadata": {},
   "source": [
    "Antal vundne spil relativ til samlet antal spil pr person"
   ]
  },
  {
   "cell_type": "code",
   "execution_count": 19,
   "metadata": {},
   "outputs": [
    {
     "data": {
      "text/plain": [
       "{'David': 0.5135135135135135,\n",
       " 'William': 0.47540983606557374,\n",
       " 'Sofus': 0.45454545454545453,\n",
       " 'Gustav': 0.5569620253164557,\n",
       " 'Johan': 0.5833333333333334,\n",
       " 'Samuel': 0.4528301886792453,\n",
       " 'Maria': 0.4444444444444444}"
      ]
     },
     "execution_count": 19,
     "metadata": {},
     "output_type": "execute_result"
    }
   ],
   "source": [
    "wins_tot_rel"
   ]
  },
  {
   "cell_type": "markdown",
   "metadata": {},
   "source": [
    "### Statistikker over meldinger"
   ]
  },
  {
   "cell_type": "code",
   "execution_count": 20,
   "metadata": {},
   "outputs": [],
   "source": [
    "meldinger = melding_format(df)"
   ]
  },
  {
   "cell_type": "markdown",
   "metadata": {},
   "source": [
    "Antal forekomster af hver melding:"
   ]
  },
  {
   "cell_type": "code",
   "execution_count": 21,
   "metadata": {},
   "outputs": [
    {
     "data": {
      "image/png": "[encoded data removed]",
      "text/plain": [
       "<Figure size 432x288 with 1 Axes>"
      ]
     },
     "metadata": {
      "needs_background": "light"
     },
     "output_type": "display_data"
    }
   ],
   "source": [
    "meldinger_count = collections.Counter(meldinger[\"Melding\"])\n",
    "\n",
    "plt.bar(*zip(*meldinger_count.items()))\n",
    "plt.show()"
   ]
  },
  {
   "cell_type": "markdown",
   "metadata": {},
   "source": [
    "Antal vundne spil, hvor man har fået flere stik end meldt"
   ]
  },
  {
   "cell_type": "code",
   "execution_count": 22,
   "metadata": {},
   "outputs": [
    {
     "data": {
      "text/plain": [
       "{'David': 20,\n",
       " 'William': 11,\n",
       " 'Sofus': 0,\n",
       " 'Gustav': 16,\n",
       " 'Johan': 7,\n",
       " 'Samuel': 11,\n",
       " 'Maria': 1}"
      ]
     },
     "execution_count": 22,
     "metadata": {},
     "output_type": "execute_result"
    }
   ],
   "source": [
    "wins_op = dict_temp.copy()\n",
    "\n",
    "count = 0\n",
    "for udfald in meldinger[\"Resultat\"]:\n",
    "    if udfald > 0.1:\n",
    "        for person in wins_op:\n",
    "            if df.iloc[count][person] > 0:\n",
    "                wins_op[person] += 1\n",
    "\n",
    "    count += 1\n",
    "\n",
    "wins_op"
   ]
  },
  {
   "cell_type": "markdown",
   "metadata": {},
   "source": [
    "Antal vundne spil, hvor man har fået flere stik end meldt, relativt til hvor mange spil man har spillet i alt"
   ]
  },
  {
   "cell_type": "code",
   "execution_count": 23,
   "metadata": {},
   "outputs": [
    {
     "data": {
      "text/plain": [
       "{'David': 0.2702702702702703,\n",
       " 'William': 0.18032786885245902,\n",
       " 'Sofus': 0.0,\n",
       " 'Gustav': 0.20253164556962025,\n",
       " 'Johan': 0.14583333333333334,\n",
       " 'Samuel': 0.20754716981132076,\n",
       " 'Maria': 0.1111111111111111}"
      ]
     },
     "execution_count": 23,
     "metadata": {},
     "output_type": "execute_result"
    }
   ],
   "source": [
    "wins_op_rel = dict_temp.copy()\n",
    "\n",
    "for person in wins_op_rel:\n",
    "    wins_op_rel[person] = wins_op[person]/game_amo_pp[person]\n",
    "\n",
    "wins_op_rel"
   ]
  },
  {
   "cell_type": "markdown",
   "metadata": {},
   "source": [
    "## Par-statistikker"
   ]
  },
  {
   "cell_type": "markdown",
   "metadata": {},
   "source": [
    "Først laves en template dictionary som indeholder makkerparkombinationer"
   ]
  },
  {
   "cell_type": "code",
   "execution_count": 24,
   "metadata": {},
   "outputs": [],
   "source": [
    "pairs_temp = {}\n",
    "\n",
    "for p1 in dict_temp:\n",
    "    for p2 in dict_temp:\n",
    "        pairs_temp[p1,p2] = 0"
   ]
  },
  {
   "cell_type": "markdown",
   "metadata": {},
   "source": [
    "### Samlede antal spil"
   ]
  },
  {
   "cell_type": "markdown",
   "metadata": {},
   "source": [
    "Antal spil som hver personkombination har deltaget i sammen (dvs inkl som både makker og modstander)"
   ]
  },
  {
   "cell_type": "code",
   "execution_count": 25,
   "metadata": {},
   "outputs": [
    {
     "data": {
      "text/html": [
       "<div>\n",
       "<style scoped>\n",
       "    .dataframe tbody tr th:only-of-type {\n",
       "        vertical-align: middle;\n",
       "    }\n",
       "\n",
       "    .dataframe tbody tr th {\n",
       "        vertical-align: top;\n",
       "    }\n",
       "\n",
       "    .dataframe thead tr th {\n",
       "        text-align: left;\n",
       "    }\n",
       "</style>\n",
       "<table border=\"1\" class=\"dataframe\">\n",
       "  <thead>\n",
       "    <tr>\n",
       "      <th></th>\n",
       "      <th colspan=\"7\" halign=\"left\">0</th>\n",
       "    </tr>\n",
       "    <tr>\n",
       "      <th></th>\n",
       "      <th>David</th>\n",
       "      <th>Gustav</th>\n",
       "      <th>Johan</th>\n",
       "      <th>Maria</th>\n",
       "      <th>Samuel</th>\n",
       "      <th>Sofus</th>\n",
       "      <th>William</th>\n",
       "    </tr>\n",
       "  </thead>\n",
       "  <tbody>\n",
       "    <tr>\n",
       "      <th>David</th>\n",
       "      <td>74</td>\n",
       "      <td>70</td>\n",
       "      <td>42</td>\n",
       "      <td>5</td>\n",
       "      <td>43</td>\n",
       "      <td>11</td>\n",
       "      <td>51</td>\n",
       "    </tr>\n",
       "    <tr>\n",
       "      <th>Gustav</th>\n",
       "      <td>70</td>\n",
       "      <td>79</td>\n",
       "      <td>44</td>\n",
       "      <td>8</td>\n",
       "      <td>48</td>\n",
       "      <td>10</td>\n",
       "      <td>57</td>\n",
       "    </tr>\n",
       "    <tr>\n",
       "      <th>Johan</th>\n",
       "      <td>42</td>\n",
       "      <td>44</td>\n",
       "      <td>48</td>\n",
       "      <td>0</td>\n",
       "      <td>27</td>\n",
       "      <td>0</td>\n",
       "      <td>30</td>\n",
       "    </tr>\n",
       "    <tr>\n",
       "      <th>Maria</th>\n",
       "      <td>5</td>\n",
       "      <td>8</td>\n",
       "      <td>0</td>\n",
       "      <td>9</td>\n",
       "      <td>5</td>\n",
       "      <td>5</td>\n",
       "      <td>4</td>\n",
       "    </tr>\n",
       "    <tr>\n",
       "      <th>Samuel</th>\n",
       "      <td>43</td>\n",
       "      <td>48</td>\n",
       "      <td>27</td>\n",
       "      <td>5</td>\n",
       "      <td>53</td>\n",
       "      <td>1</td>\n",
       "      <td>34</td>\n",
       "    </tr>\n",
       "    <tr>\n",
       "      <th>Sofus</th>\n",
       "      <td>11</td>\n",
       "      <td>10</td>\n",
       "      <td>0</td>\n",
       "      <td>5</td>\n",
       "      <td>1</td>\n",
       "      <td>11</td>\n",
       "      <td>6</td>\n",
       "    </tr>\n",
       "    <tr>\n",
       "      <th>William</th>\n",
       "      <td>51</td>\n",
       "      <td>57</td>\n",
       "      <td>30</td>\n",
       "      <td>4</td>\n",
       "      <td>34</td>\n",
       "      <td>6</td>\n",
       "      <td>61</td>\n",
       "    </tr>\n",
       "  </tbody>\n",
       "</table>\n",
       "</div>"
      ],
      "text/plain": [
       "            0                                        \n",
       "        David Gustav Johan Maria Samuel Sofus William\n",
       "David      74     70    42     5     43    11      51\n",
       "Gustav     70     79    44     8     48    10      57\n",
       "Johan      42     44    48     0     27     0      30\n",
       "Maria       5      8     0     9      5     5       4\n",
       "Samuel     43     48    27     5     53     1      34\n",
       "Sofus      11     10     0     5      1    11       6\n",
       "William    51     57    30     4     34     6      61"
      ]
     },
     "execution_count": 25,
     "metadata": {},
     "output_type": "execute_result"
    }
   ],
   "source": [
    "game_amo_pairs = pairs_temp.copy()\n",
    "\n",
    "for i in range(amo):\n",
    "    for p1 in dict_temp:\n",
    "        for p2 in dict_temp:\n",
    "            if df.iloc[i][p1] != 0 and df.iloc[i][p2] != 0:\n",
    "                game_amo_pairs[p1,p2] += 1\n",
    "\n",
    "\n",
    "game_amo_pairs_df = pd.DataFrame(game_amo_pairs.values(), index=pd.MultiIndex.from_tuples(game_amo_pairs.keys())).unstack(1)\n",
    "game_amo_pairs_df"
   ]
  },
  {
   "cell_type": "markdown",
   "metadata": {},
   "source": [
    "Antal spil spillet i hver makkerparkombination, incl sol og ren sol"
   ]
  },
  {
   "cell_type": "code",
   "execution_count": 26,
   "metadata": {},
   "outputs": [
    {
     "data": {
      "text/html": [
       "<div>\n",
       "<style scoped>\n",
       "    .dataframe tbody tr th:only-of-type {\n",
       "        vertical-align: middle;\n",
       "    }\n",
       "\n",
       "    .dataframe tbody tr th {\n",
       "        vertical-align: top;\n",
       "    }\n",
       "\n",
       "    .dataframe thead tr th {\n",
       "        text-align: left;\n",
       "    }\n",
       "</style>\n",
       "<table border=\"1\" class=\"dataframe\">\n",
       "  <thead>\n",
       "    <tr>\n",
       "      <th></th>\n",
       "      <th colspan=\"7\" halign=\"left\">0</th>\n",
       "    </tr>\n",
       "    <tr>\n",
       "      <th></th>\n",
       "      <th>David</th>\n",
       "      <th>Gustav</th>\n",
       "      <th>Johan</th>\n",
       "      <th>Maria</th>\n",
       "      <th>Samuel</th>\n",
       "      <th>Sofus</th>\n",
       "      <th>William</th>\n",
       "    </tr>\n",
       "  </thead>\n",
       "  <tbody>\n",
       "    <tr>\n",
       "      <th>David</th>\n",
       "      <td>74</td>\n",
       "      <td>17</td>\n",
       "      <td>16</td>\n",
       "      <td>3</td>\n",
       "      <td>14</td>\n",
       "      <td>5</td>\n",
       "      <td>24</td>\n",
       "    </tr>\n",
       "    <tr>\n",
       "      <th>Gustav</th>\n",
       "      <td>17</td>\n",
       "      <td>79</td>\n",
       "      <td>22</td>\n",
       "      <td>3</td>\n",
       "      <td>18</td>\n",
       "      <td>3</td>\n",
       "      <td>19</td>\n",
       "    </tr>\n",
       "    <tr>\n",
       "      <th>Johan</th>\n",
       "      <td>16</td>\n",
       "      <td>22</td>\n",
       "      <td>48</td>\n",
       "      <td>0</td>\n",
       "      <td>10</td>\n",
       "      <td>0</td>\n",
       "      <td>12</td>\n",
       "    </tr>\n",
       "    <tr>\n",
       "      <th>Maria</th>\n",
       "      <td>3</td>\n",
       "      <td>3</td>\n",
       "      <td>0</td>\n",
       "      <td>9</td>\n",
       "      <td>3</td>\n",
       "      <td>2</td>\n",
       "      <td>0</td>\n",
       "    </tr>\n",
       "    <tr>\n",
       "      <th>Samuel</th>\n",
       "      <td>14</td>\n",
       "      <td>18</td>\n",
       "      <td>10</td>\n",
       "      <td>3</td>\n",
       "      <td>53</td>\n",
       "      <td>0</td>\n",
       "      <td>14</td>\n",
       "    </tr>\n",
       "    <tr>\n",
       "      <th>Sofus</th>\n",
       "      <td>5</td>\n",
       "      <td>3</td>\n",
       "      <td>0</td>\n",
       "      <td>2</td>\n",
       "      <td>0</td>\n",
       "      <td>11</td>\n",
       "      <td>2</td>\n",
       "    </tr>\n",
       "    <tr>\n",
       "      <th>William</th>\n",
       "      <td>24</td>\n",
       "      <td>19</td>\n",
       "      <td>12</td>\n",
       "      <td>0</td>\n",
       "      <td>14</td>\n",
       "      <td>2</td>\n",
       "      <td>61</td>\n",
       "    </tr>\n",
       "  </tbody>\n",
       "</table>\n",
       "</div>"
      ],
      "text/plain": [
       "            0                                        \n",
       "        David Gustav Johan Maria Samuel Sofus William\n",
       "David      74     17    16     3     14     5      24\n",
       "Gustav     17     79    22     3     18     3      19\n",
       "Johan      16     22    48     0     10     0      12\n",
       "Maria       3      3     0     9      3     2       0\n",
       "Samuel     14     18    10     3     53     0      14\n",
       "Sofus       5      3     0     2      0    11       2\n",
       "William    24     19    12     0     14     2      61"
      ]
     },
     "execution_count": 26,
     "metadata": {},
     "output_type": "execute_result"
    }
   ],
   "source": [
    "wins_amo_pairs = pairs_temp.copy()\n",
    "\n",
    "for i in range(amo):\n",
    "    for p1 in dict_temp:\n",
    "        for p2 in dict_temp:\n",
    "            if df.iloc[i][p1] > 0 and df.iloc[i][p2] > 0:\n",
    "                wins_amo_pairs[p1,p2] += 1\n",
    "            elif df.iloc[i][p1] < 0 and df.iloc[i][p2] < 0:\n",
    "                wins_amo_pairs[p1,p2] += 1\n",
    "\n",
    "\n",
    "wins_amo_pairs_df = pd.DataFrame(wins_amo_pairs.values(), index=pd.MultiIndex.from_tuples(wins_amo_pairs.keys())).unstack(1)\n",
    "wins_amo_pairs_df"
   ]
  },
  {
   "cell_type": "markdown",
   "metadata": {},
   "source": [
    "Antal spil spillet i hver makkerparkombination, eskl sol og ren sol"
   ]
  },
  {
   "cell_type": "code",
   "execution_count": 27,
   "metadata": {},
   "outputs": [
    {
     "data": {
      "text/html": [
       "<div>\n",
       "<style scoped>\n",
       "    .dataframe tbody tr th:only-of-type {\n",
       "        vertical-align: middle;\n",
       "    }\n",
       "\n",
       "    .dataframe tbody tr th {\n",
       "        vertical-align: top;\n",
       "    }\n",
       "\n",
       "    .dataframe thead tr th {\n",
       "        text-align: left;\n",
       "    }\n",
       "</style>\n",
       "<table border=\"1\" class=\"dataframe\">\n",
       "  <thead>\n",
       "    <tr>\n",
       "      <th></th>\n",
       "      <th colspan=\"7\" halign=\"left\">0</th>\n",
       "    </tr>\n",
       "    <tr>\n",
       "      <th></th>\n",
       "      <th>David</th>\n",
       "      <th>Gustav</th>\n",
       "      <th>Johan</th>\n",
       "      <th>Maria</th>\n",
       "      <th>Samuel</th>\n",
       "      <th>Sofus</th>\n",
       "      <th>William</th>\n",
       "    </tr>\n",
       "  </thead>\n",
       "  <tbody>\n",
       "    <tr>\n",
       "      <th>David</th>\n",
       "      <td>59</td>\n",
       "      <td>16</td>\n",
       "      <td>11</td>\n",
       "      <td>2</td>\n",
       "      <td>10</td>\n",
       "      <td>3</td>\n",
       "      <td>19</td>\n",
       "    </tr>\n",
       "    <tr>\n",
       "      <th>Gustav</th>\n",
       "      <td>16</td>\n",
       "      <td>64</td>\n",
       "      <td>17</td>\n",
       "      <td>3</td>\n",
       "      <td>13</td>\n",
       "      <td>3</td>\n",
       "      <td>14</td>\n",
       "    </tr>\n",
       "    <tr>\n",
       "      <th>Johan</th>\n",
       "      <td>11</td>\n",
       "      <td>17</td>\n",
       "      <td>39</td>\n",
       "      <td>0</td>\n",
       "      <td>6</td>\n",
       "      <td>0</td>\n",
       "      <td>8</td>\n",
       "    </tr>\n",
       "    <tr>\n",
       "      <th>Maria</th>\n",
       "      <td>2</td>\n",
       "      <td>3</td>\n",
       "      <td>0</td>\n",
       "      <td>8</td>\n",
       "      <td>3</td>\n",
       "      <td>1</td>\n",
       "      <td>0</td>\n",
       "    </tr>\n",
       "    <tr>\n",
       "      <th>Samuel</th>\n",
       "      <td>10</td>\n",
       "      <td>13</td>\n",
       "      <td>6</td>\n",
       "      <td>3</td>\n",
       "      <td>41</td>\n",
       "      <td>0</td>\n",
       "      <td>9</td>\n",
       "    </tr>\n",
       "    <tr>\n",
       "      <th>Sofus</th>\n",
       "      <td>3</td>\n",
       "      <td>3</td>\n",
       "      <td>0</td>\n",
       "      <td>1</td>\n",
       "      <td>0</td>\n",
       "      <td>9</td>\n",
       "      <td>1</td>\n",
       "    </tr>\n",
       "    <tr>\n",
       "      <th>William</th>\n",
       "      <td>19</td>\n",
       "      <td>14</td>\n",
       "      <td>8</td>\n",
       "      <td>0</td>\n",
       "      <td>9</td>\n",
       "      <td>1</td>\n",
       "      <td>51</td>\n",
       "    </tr>\n",
       "  </tbody>\n",
       "</table>\n",
       "</div>"
      ],
      "text/plain": [
       "            0                                        \n",
       "        David Gustav Johan Maria Samuel Sofus William\n",
       "David      59     16    11     2     10     3      19\n",
       "Gustav     16     64    17     3     13     3      14\n",
       "Johan      11     17    39     0      6     0       8\n",
       "Maria       2      3     0     8      3     1       0\n",
       "Samuel     10     13     6     3     41     0       9\n",
       "Sofus       3      3     0     1      0     9       1\n",
       "William    19     14     8     0      9     1      51"
      ]
     },
     "execution_count": 27,
     "metadata": {},
     "output_type": "execute_result"
    }
   ],
   "source": [
    "wins_amo_pairs_nosol = pairs_temp.copy()\n",
    "\n",
    "for i in range(amo):\n",
    "    if df.iloc[i][\"Melding\"] != \"Sol\" and df.iloc[i][\"Melding\"] != \"Rsol\":\n",
    "        for p1 in dict_temp:\n",
    "            for p2 in dict_temp:\n",
    "                if df.iloc[i][p1] > 0 and df.iloc[i][p2] > 0:\n",
    "                    wins_amo_pairs_nosol[p1,p2] += 1\n",
    "                elif df.iloc[i][p1] < 0 and df.iloc[i][p2] < 0:\n",
    "                    wins_amo_pairs_nosol[p1,p2] += 1\n",
    "                    \n",
    "\n",
    "wins_amo_pairs_nosol_df = pd.DataFrame(wins_amo_pairs_nosol.values(), index=pd.MultiIndex.from_tuples(wins_amo_pairs_nosol.keys())).unstack(1)\n",
    "wins_amo_pairs_nosol_df"
   ]
  },
  {
   "cell_type": "markdown",
   "metadata": {},
   "source": [
    "Antal spil spillet i hver makkerparkombination, incl sol og ren sol, korrigeret (divideret) med antal spil parret har deltaget i sammen. Dvs man får hvor ofte (i procent) to spillere har været makre over alle de spil som begge personer har deltaget i."
   ]
  },
  {
   "cell_type": "code",
   "execution_count": 28,
   "metadata": {},
   "outputs": [
    {
     "data": {
      "text/html": [
       "<div>\n",
       "<style scoped>\n",
       "    .dataframe tbody tr th:only-of-type {\n",
       "        vertical-align: middle;\n",
       "    }\n",
       "\n",
       "    .dataframe tbody tr th {\n",
       "        vertical-align: top;\n",
       "    }\n",
       "\n",
       "    .dataframe thead tr th {\n",
       "        text-align: left;\n",
       "    }\n",
       "</style>\n",
       "<table border=\"1\" class=\"dataframe\">\n",
       "  <thead>\n",
       "    <tr>\n",
       "      <th></th>\n",
       "      <th colspan=\"7\" halign=\"left\">0</th>\n",
       "    </tr>\n",
       "    <tr>\n",
       "      <th></th>\n",
       "      <th>David</th>\n",
       "      <th>Gustav</th>\n",
       "      <th>Johan</th>\n",
       "      <th>Maria</th>\n",
       "      <th>Samuel</th>\n",
       "      <th>Sofus</th>\n",
       "      <th>William</th>\n",
       "    </tr>\n",
       "  </thead>\n",
       "  <tbody>\n",
       "    <tr>\n",
       "      <th>David</th>\n",
       "      <td>1.000000</td>\n",
       "      <td>0.242857</td>\n",
       "      <td>0.380952</td>\n",
       "      <td>0.600</td>\n",
       "      <td>0.325581</td>\n",
       "      <td>0.454545</td>\n",
       "      <td>0.470588</td>\n",
       "    </tr>\n",
       "    <tr>\n",
       "      <th>Gustav</th>\n",
       "      <td>0.242857</td>\n",
       "      <td>1.000000</td>\n",
       "      <td>0.500000</td>\n",
       "      <td>0.375</td>\n",
       "      <td>0.375000</td>\n",
       "      <td>0.300000</td>\n",
       "      <td>0.333333</td>\n",
       "    </tr>\n",
       "    <tr>\n",
       "      <th>Johan</th>\n",
       "      <td>0.380952</td>\n",
       "      <td>0.500000</td>\n",
       "      <td>1.000000</td>\n",
       "      <td>0.000</td>\n",
       "      <td>0.370370</td>\n",
       "      <td>0.000000</td>\n",
       "      <td>0.400000</td>\n",
       "    </tr>\n",
       "    <tr>\n",
       "      <th>Maria</th>\n",
       "      <td>0.600000</td>\n",
       "      <td>0.375000</td>\n",
       "      <td>0.000000</td>\n",
       "      <td>1.000</td>\n",
       "      <td>0.600000</td>\n",
       "      <td>0.400000</td>\n",
       "      <td>0.000000</td>\n",
       "    </tr>\n",
       "    <tr>\n",
       "      <th>Samuel</th>\n",
       "      <td>0.325581</td>\n",
       "      <td>0.375000</td>\n",
       "      <td>0.370370</td>\n",
       "      <td>0.600</td>\n",
       "      <td>1.000000</td>\n",
       "      <td>0.000000</td>\n",
       "      <td>0.411765</td>\n",
       "    </tr>\n",
       "    <tr>\n",
       "      <th>Sofus</th>\n",
       "      <td>0.454545</td>\n",
       "      <td>0.300000</td>\n",
       "      <td>0.000000</td>\n",
       "      <td>0.400</td>\n",
       "      <td>0.000000</td>\n",
       "      <td>1.000000</td>\n",
       "      <td>0.333333</td>\n",
       "    </tr>\n",
       "    <tr>\n",
       "      <th>William</th>\n",
       "      <td>0.470588</td>\n",
       "      <td>0.333333</td>\n",
       "      <td>0.400000</td>\n",
       "      <td>0.000</td>\n",
       "      <td>0.411765</td>\n",
       "      <td>0.333333</td>\n",
       "      <td>1.000000</td>\n",
       "    </tr>\n",
       "  </tbody>\n",
       "</table>\n",
       "</div>"
      ],
      "text/plain": [
       "                0                                                         \n",
       "            David    Gustav     Johan  Maria    Samuel     Sofus   William\n",
       "David    1.000000  0.242857  0.380952  0.600  0.325581  0.454545  0.470588\n",
       "Gustav   0.242857  1.000000  0.500000  0.375  0.375000  0.300000  0.333333\n",
       "Johan    0.380952  0.500000  1.000000  0.000  0.370370  0.000000  0.400000\n",
       "Maria    0.600000  0.375000  0.000000  1.000  0.600000  0.400000  0.000000\n",
       "Samuel   0.325581  0.375000  0.370370  0.600  1.000000  0.000000  0.411765\n",
       "Sofus    0.454545  0.300000  0.000000  0.400  0.000000  1.000000  0.333333\n",
       "William  0.470588  0.333333  0.400000  0.000  0.411765  0.333333  1.000000"
      ]
     },
     "execution_count": 28,
     "metadata": {},
     "output_type": "execute_result"
    }
   ],
   "source": [
    "wins_amo_pairs_corr = pairs_temp.copy()\n",
    "\n",
    "for i in range(amo):\n",
    "    for p1 in dict_temp:\n",
    "        for p2 in dict_temp:\n",
    "            if df.iloc[i][p1] > 0 and df.iloc[i][p2] > 0:\n",
    "                wins_amo_pairs_corr[p1,p2] += 1\n",
    "            elif df.iloc[i][p1] < 0 and df.iloc[i][p2] < 0:\n",
    "                wins_amo_pairs_corr[p1,p2] += 1\n",
    "\n",
    "\n",
    "for p1 in dict_temp:\n",
    "    for p2 in dict_temp:\n",
    "        if game_amo_pairs[p1,p2] != 0:\n",
    "            wins_amo_pairs_corr[p1,p2] /= game_amo_pairs[p1,p2]\n",
    "\n",
    "wins_amo_pairs_corr_df = pd.DataFrame(wins_amo_pairs_corr.values(), index=pd.MultiIndex.from_tuples(wins_amo_pairs_corr.keys())).unstack(1)\n",
    "wins_amo_pairs_corr_df"
   ]
  },
  {
   "cell_type": "markdown",
   "metadata": {},
   "source": [
    "### Antal vundne spil"
   ]
  },
  {
   "cell_type": "markdown",
   "metadata": {},
   "source": [
    "Antal vundne spil pr makkerpar"
   ]
  },
  {
   "cell_type": "markdown",
   "metadata": {},
   "source": [
    "# Idéer til statistikker"
   ]
  },
  {
   "cell_type": "markdown",
   "metadata": {},
   "source": [
    "Statistik pr personn:\n",
    "- Højeste winning streak\n",
    "- Medianscore\n",
    "- Hyppigste melding pr person\n",
    "- Hvem vandt relativt flest spil, hvor de fik flere stik end meldt\n",
    "- Antal spil spillet\n",
    "- Antal/procent spil tabt/vundet\n",
    "\n",
    "Statistik pr makkerpar:\n",
    "- Den bedste kombination af makkerpar ifht antal vundene spil, pointscore\n",
    "- Den mest hyppige kombi af makkerpar (påvis/debunk the Gutsab-Scmulduo)\n"
   ]
  }
 ],
 "metadata": {
  "interpreter": {
   "hash": "88f8aa9a882d917c46e3304969127c814405ab61640d5a2cf4bb2964abb99d3c"
  },
  "kernelspec": {
   "display_name": "Python 3.10.2 ('bike_env')",
   "language": "python",
   "name": "python3"
  },
  "language_info": {
   "codemirror_mode": {
    "name": "ipython",
    "version": 3
   },
   "file_extension": ".py",
   "mimetype": "text/x-python",
   "name": "python",
   "nbconvert_exporter": "python",
   "pygments_lexer": "ipython3",
   "version": "3.10.2"
  },
  "orig_nbformat": 4
 },
 "nbformat": 4,
 "nbformat_minor": 2
}
